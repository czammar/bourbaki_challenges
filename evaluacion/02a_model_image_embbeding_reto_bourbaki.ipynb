{
 "cells": [
  {
   "cell_type": "code",
   "execution_count": null,
   "metadata": {
    "id": "0F2z6gIe02hn"
   },
   "outputs": [],
   "source": []
  },
  {
   "cell_type": "code",
   "execution_count": 7,
   "metadata": {
    "id": "vExaOtgt44tm"
   },
   "outputs": [],
   "source": [
    "import pandas as pd\n",
    "import numpy as np\n",
    "from PIL import Image\n",
    "\n",
    "from sklearn.preprocessing import MinMaxScaler\n",
    "from sklearn.model_selection import train_test_split\n",
    "\n",
    "from tqdm.notebook import tqdm\n",
    "\n",
    "\n",
    "import torch\n",
    "import torch.nn as nn\n",
    "from torch.utils.data import Dataset, DataLoader\n",
    "import torch.optim as optim\n",
    "import torchvision.transforms as transforms\n",
    "import torchvision.models as models\n",
    "from torchvision import transforms"
   ]
  },
  {
   "cell_type": "code",
   "execution_count": 14,
   "metadata": {
    "id": "zDsMUxIv0-3d"
   },
   "outputs": [],
   "source": [
    "PATH_TABULAR_DATA = \"real_estate_price_prediction_processed_09042024.csv\""
   ]
  },
  {
   "cell_type": "code",
   "execution_count": 12,
   "metadata": {},
   "outputs": [
    {
     "name": "stdout",
     "output_type": "stream",
     "text": [
      "/Users/cesar/github/bourbaki_challenges/evaluacion\n"
     ]
    }
   ],
   "source": [
    "!pwd"
   ]
  },
  {
   "cell_type": "code",
   "execution_count": 13,
   "metadata": {},
   "outputs": [
    {
     "name": "stdout",
     "output_type": "stream",
     "text": [
      "00_eda_reto_bourbaki.ipynb\n",
      "01_model_tabular_reto_bourbaki.ipynb\n",
      "02_model_image_embbeding_reto_bourbaki-Copy1.ipynb\n",
      "02a_model_image_embbeding_reto_bourbaki.ipynb\n",
      "real_estate_price_prediction_metadata_images_09042024.csv\n",
      "real_estate_price_prediction_processed_09042024.csv\n",
      "\u001b[1m\u001b[36mreduced_images\u001b[m\u001b[m\n"
     ]
    }
   ],
   "source": [
    "!ls"
   ]
  },
  {
   "cell_type": "code",
   "execution_count": 15,
   "metadata": {
    "id": "7XqalGDN03B6"
   },
   "outputs": [],
   "source": [
    "data_tab = pd.read_csv(PATH_TABULAR_DATA)"
   ]
  },
  {
   "cell_type": "code",
   "execution_count": 16,
   "metadata": {
    "id": "rGtdnVcPFhFQ"
   },
   "outputs": [],
   "source": [
    "data_tab[[\"price_scaled\"]] = MinMaxScaler().fit_transform(data_tab[[\"price\"]])"
   ]
  },
  {
   "cell_type": "code",
   "execution_count": 17,
   "metadata": {
    "colab": {
     "base_uri": "https://localhost:8080/",
     "height": 253
    },
    "id": "HdneEMsi1jNQ",
    "outputId": "6d313554-c158-424a-bc5b-102d009ef1df"
   },
   "outputs": [
    {
     "data": {
      "text/html": [
       "<div>\n",
       "<style scoped>\n",
       "    .dataframe tbody tr th:only-of-type {\n",
       "        vertical-align: middle;\n",
       "    }\n",
       "\n",
       "    .dataframe tbody tr th {\n",
       "        vertical-align: top;\n",
       "    }\n",
       "\n",
       "    .dataframe thead th {\n",
       "        text-align: right;\n",
       "    }\n",
       "</style>\n",
       "<table border=\"1\" class=\"dataframe\">\n",
       "  <thead>\n",
       "    <tr style=\"text-align: right;\">\n",
       "      <th></th>\n",
       "      <th>id_annonce</th>\n",
       "      <th>property_type</th>\n",
       "      <th>approximate_latitude</th>\n",
       "      <th>approximate_longitude</th>\n",
       "      <th>city</th>\n",
       "      <th>postal_code</th>\n",
       "      <th>size</th>\n",
       "      <th>floor</th>\n",
       "      <th>land_size</th>\n",
       "      <th>energy_performance_value</th>\n",
       "      <th>...</th>\n",
       "      <th>nb_photos</th>\n",
       "      <th>has_a_balcony</th>\n",
       "      <th>nb_terraces</th>\n",
       "      <th>has_a_cellar</th>\n",
       "      <th>has_a_garage</th>\n",
       "      <th>has_air_conditioning</th>\n",
       "      <th>last_floor</th>\n",
       "      <th>upper_floors</th>\n",
       "      <th>price</th>\n",
       "      <th>price_scaled</th>\n",
       "    </tr>\n",
       "  </thead>\n",
       "  <tbody>\n",
       "    <tr>\n",
       "      <th>0</th>\n",
       "      <td>35996577</td>\n",
       "      <td>0</td>\n",
       "      <td>43.643880</td>\n",
       "      <td>7.117183</td>\n",
       "      <td>8452</td>\n",
       "      <td>199</td>\n",
       "      <td>63.0</td>\n",
       "      <td>3.479524</td>\n",
       "      <td>3995.665362</td>\n",
       "      <td>205.385148</td>\n",
       "      <td>...</td>\n",
       "      <td>4.0</td>\n",
       "      <td>0.0</td>\n",
       "      <td>1.0</td>\n",
       "      <td>0.0</td>\n",
       "      <td>0.0</td>\n",
       "      <td>0.0</td>\n",
       "      <td>0.0</td>\n",
       "      <td>0.0</td>\n",
       "      <td>355000.0</td>\n",
       "      <td>0.145320</td>\n",
       "    </tr>\n",
       "    <tr>\n",
       "      <th>1</th>\n",
       "      <td>35811033</td>\n",
       "      <td>0</td>\n",
       "      <td>45.695757</td>\n",
       "      <td>4.895610</td>\n",
       "      <td>8234</td>\n",
       "      <td>3347</td>\n",
       "      <td>90.0</td>\n",
       "      <td>3.000000</td>\n",
       "      <td>3995.665362</td>\n",
       "      <td>223.000000</td>\n",
       "      <td>...</td>\n",
       "      <td>8.0</td>\n",
       "      <td>0.0</td>\n",
       "      <td>0.0</td>\n",
       "      <td>0.0</td>\n",
       "      <td>0.0</td>\n",
       "      <td>0.0</td>\n",
       "      <td>0.0</td>\n",
       "      <td>0.0</td>\n",
       "      <td>190000.0</td>\n",
       "      <td>0.072778</td>\n",
       "    </tr>\n",
       "    <tr>\n",
       "      <th>2</th>\n",
       "      <td>35731841</td>\n",
       "      <td>12</td>\n",
       "      <td>47.966791</td>\n",
       "      <td>-1.220451</td>\n",
       "      <td>5235</td>\n",
       "      <td>1650</td>\n",
       "      <td>61.0</td>\n",
       "      <td>3.479524</td>\n",
       "      <td>370.000000</td>\n",
       "      <td>205.385148</td>\n",
       "      <td>...</td>\n",
       "      <td>4.0</td>\n",
       "      <td>0.0</td>\n",
       "      <td>0.0</td>\n",
       "      <td>0.0</td>\n",
       "      <td>0.0</td>\n",
       "      <td>0.0</td>\n",
       "      <td>0.0</td>\n",
       "      <td>0.0</td>\n",
       "      <td>39000.0</td>\n",
       "      <td>0.006390</td>\n",
       "    </tr>\n",
       "    <tr>\n",
       "      <th>3</th>\n",
       "      <td>35886765</td>\n",
       "      <td>12</td>\n",
       "      <td>47.289292</td>\n",
       "      <td>-1.878805</td>\n",
       "      <td>1929</td>\n",
       "      <td>2050</td>\n",
       "      <td>142.0</td>\n",
       "      <td>3.479524</td>\n",
       "      <td>764.000000</td>\n",
       "      <td>217.000000</td>\n",
       "      <td>...</td>\n",
       "      <td>8.0</td>\n",
       "      <td>0.0</td>\n",
       "      <td>1.0</td>\n",
       "      <td>0.0</td>\n",
       "      <td>0.0</td>\n",
       "      <td>0.0</td>\n",
       "      <td>0.0</td>\n",
       "      <td>0.0</td>\n",
       "      <td>299000.0</td>\n",
       "      <td>0.120699</td>\n",
       "    </tr>\n",
       "    <tr>\n",
       "      <th>4</th>\n",
       "      <td>35781137</td>\n",
       "      <td>0</td>\n",
       "      <td>45.718992</td>\n",
       "      <td>4.844234</td>\n",
       "      <td>4476</td>\n",
       "      <td>3334</td>\n",
       "      <td>88.0</td>\n",
       "      <td>3.000000</td>\n",
       "      <td>3995.665362</td>\n",
       "      <td>205.385148</td>\n",
       "      <td>...</td>\n",
       "      <td>5.0</td>\n",
       "      <td>1.0</td>\n",
       "      <td>0.0</td>\n",
       "      <td>0.0</td>\n",
       "      <td>0.0</td>\n",
       "      <td>0.0</td>\n",
       "      <td>0.0</td>\n",
       "      <td>0.0</td>\n",
       "      <td>478000.0</td>\n",
       "      <td>0.199397</td>\n",
       "    </tr>\n",
       "  </tbody>\n",
       "</table>\n",
       "<p>5 rows × 29 columns</p>\n",
       "</div>"
      ],
      "text/plain": [
       "   id_annonce  property_type  approximate_latitude  approximate_longitude  \\\n",
       "0    35996577              0             43.643880               7.117183   \n",
       "1    35811033              0             45.695757               4.895610   \n",
       "2    35731841             12             47.966791              -1.220451   \n",
       "3    35886765             12             47.289292              -1.878805   \n",
       "4    35781137              0             45.718992               4.844234   \n",
       "\n",
       "   city  postal_code   size     floor    land_size  energy_performance_value  \\\n",
       "0  8452          199   63.0  3.479524  3995.665362                205.385148   \n",
       "1  8234         3347   90.0  3.000000  3995.665362                223.000000   \n",
       "2  5235         1650   61.0  3.479524   370.000000                205.385148   \n",
       "3  1929         2050  142.0  3.479524   764.000000                217.000000   \n",
       "4  4476         3334   88.0  3.000000  3995.665362                205.385148   \n",
       "\n",
       "   ...  nb_photos  has_a_balcony  nb_terraces  has_a_cellar  has_a_garage  \\\n",
       "0  ...        4.0            0.0          1.0           0.0           0.0   \n",
       "1  ...        8.0            0.0          0.0           0.0           0.0   \n",
       "2  ...        4.0            0.0          0.0           0.0           0.0   \n",
       "3  ...        8.0            0.0          1.0           0.0           0.0   \n",
       "4  ...        5.0            1.0          0.0           0.0           0.0   \n",
       "\n",
       "   has_air_conditioning  last_floor  upper_floors     price  price_scaled  \n",
       "0                   0.0         0.0           0.0  355000.0      0.145320  \n",
       "1                   0.0         0.0           0.0  190000.0      0.072778  \n",
       "2                   0.0         0.0           0.0   39000.0      0.006390  \n",
       "3                   0.0         0.0           0.0  299000.0      0.120699  \n",
       "4                   0.0         0.0           0.0  478000.0      0.199397  \n",
       "\n",
       "[5 rows x 29 columns]"
      ]
     },
     "execution_count": 17,
     "metadata": {},
     "output_type": "execute_result"
    }
   ],
   "source": [
    "data_tab.head()"
   ]
  },
  {
   "cell_type": "code",
   "execution_count": 18,
   "metadata": {
    "id": "YbWxI-EgFT4E"
   },
   "outputs": [],
   "source": [
    "X_train_, X_test, y_train_, y_test= train_test_split(\n",
    "    data_tab.drop(columns=[\"price\", \"price_scaled\"]),\n",
    "    data_tab[\"price_scaled\"],\n",
    "    test_size=0.20,\n",
    "    random_state=123,\n",
    "    shuffle=True\n",
    "    )"
   ]
  },
  {
   "cell_type": "code",
   "execution_count": 19,
   "metadata": {
    "id": "hAEOQUi_FT9V"
   },
   "outputs": [],
   "source": [
    "X_train, X_val, y_train, y_val = train_test_split(\n",
    "    X_train_,\n",
    "    y_train_,\n",
    "    test_size=0.20,\n",
    "    random_state=123,\n",
    "    shuffle=True\n",
    "    )"
   ]
  },
  {
   "cell_type": "code",
   "execution_count": 21,
   "metadata": {
    "id": "qEZsei-nGb6U"
   },
   "outputs": [],
   "source": [
    "X_reorganized = pd.concat(\n",
    "    [\n",
    "        pd.DataFrame(X_train).assign(group=\"train\"),\n",
    "        pd.DataFrame(X_val).assign(group=\"val\"),\n",
    "        pd.DataFrame(X_test).assign(group=\"test\")\n",
    "    ]\n",
    ").reset_index(drop=True)\n",
    "\n",
    "\n",
    "y_reorganized = pd.concat(\n",
    "    [\n",
    "        pd.DataFrame(y_train).assign(group=\"train\"),\n",
    "        pd.DataFrame(y_val).assign(group=\"val\"),\n",
    "        pd.DataFrame(y_test).assign(group=\"test\")\n",
    "    ]\n",
    ").reset_index(drop=True)"
   ]
  },
  {
   "cell_type": "code",
   "execution_count": 22,
   "metadata": {
    "colab": {
     "base_uri": "https://localhost:8080/",
     "height": 253
    },
    "id": "qBU61NfWHFxh",
    "outputId": "4f74afa2-3287-48d9-d888-5fb1c408e223"
   },
   "outputs": [
    {
     "data": {
      "text/html": [
       "<div>\n",
       "<style scoped>\n",
       "    .dataframe tbody tr th:only-of-type {\n",
       "        vertical-align: middle;\n",
       "    }\n",
       "\n",
       "    .dataframe tbody tr th {\n",
       "        vertical-align: top;\n",
       "    }\n",
       "\n",
       "    .dataframe thead th {\n",
       "        text-align: right;\n",
       "    }\n",
       "</style>\n",
       "<table border=\"1\" class=\"dataframe\">\n",
       "  <thead>\n",
       "    <tr style=\"text-align: right;\">\n",
       "      <th></th>\n",
       "      <th>id_annonce</th>\n",
       "      <th>property_type</th>\n",
       "      <th>approximate_latitude</th>\n",
       "      <th>approximate_longitude</th>\n",
       "      <th>city</th>\n",
       "      <th>postal_code</th>\n",
       "      <th>size</th>\n",
       "      <th>floor</th>\n",
       "      <th>land_size</th>\n",
       "      <th>energy_performance_value</th>\n",
       "      <th>...</th>\n",
       "      <th>nb_boxes</th>\n",
       "      <th>nb_photos</th>\n",
       "      <th>has_a_balcony</th>\n",
       "      <th>nb_terraces</th>\n",
       "      <th>has_a_cellar</th>\n",
       "      <th>has_a_garage</th>\n",
       "      <th>has_air_conditioning</th>\n",
       "      <th>last_floor</th>\n",
       "      <th>upper_floors</th>\n",
       "      <th>group</th>\n",
       "    </tr>\n",
       "  </thead>\n",
       "  <tbody>\n",
       "    <tr>\n",
       "      <th>6757</th>\n",
       "      <td>35851649</td>\n",
       "      <td>0</td>\n",
       "      <td>43.532040</td>\n",
       "      <td>1.237867</td>\n",
       "      <td>2638</td>\n",
       "      <td>1409</td>\n",
       "      <td>67.0</td>\n",
       "      <td>3.479524</td>\n",
       "      <td>3995.665362</td>\n",
       "      <td>205.385148</td>\n",
       "      <td>...</td>\n",
       "      <td>0.0</td>\n",
       "      <td>9.0</td>\n",
       "      <td>0.0</td>\n",
       "      <td>0.0</td>\n",
       "      <td>0.0</td>\n",
       "      <td>0.0</td>\n",
       "      <td>0.0</td>\n",
       "      <td>0.0</td>\n",
       "      <td>0.0</td>\n",
       "      <td>train</td>\n",
       "    </tr>\n",
       "    <tr>\n",
       "      <th>21590</th>\n",
       "      <td>35795069</td>\n",
       "      <td>12</td>\n",
       "      <td>48.971530</td>\n",
       "      <td>2.284296</td>\n",
       "      <td>6729</td>\n",
       "      <td>4668</td>\n",
       "      <td>153.0</td>\n",
       "      <td>3.479524</td>\n",
       "      <td>840.000000</td>\n",
       "      <td>326.000000</td>\n",
       "      <td>...</td>\n",
       "      <td>1.0</td>\n",
       "      <td>8.0</td>\n",
       "      <td>0.0</td>\n",
       "      <td>1.0</td>\n",
       "      <td>0.0</td>\n",
       "      <td>0.0</td>\n",
       "      <td>0.0</td>\n",
       "      <td>0.0</td>\n",
       "      <td>0.0</td>\n",
       "      <td>train</td>\n",
       "    </tr>\n",
       "    <tr>\n",
       "      <th>25527</th>\n",
       "      <td>35751703</td>\n",
       "      <td>12</td>\n",
       "      <td>43.244750</td>\n",
       "      <td>2.864573</td>\n",
       "      <td>8240</td>\n",
       "      <td>366</td>\n",
       "      <td>72.0</td>\n",
       "      <td>3.479524</td>\n",
       "      <td>3995.665362</td>\n",
       "      <td>205.385148</td>\n",
       "      <td>...</td>\n",
       "      <td>0.0</td>\n",
       "      <td>9.0</td>\n",
       "      <td>0.0</td>\n",
       "      <td>1.0</td>\n",
       "      <td>0.0</td>\n",
       "      <td>0.0</td>\n",
       "      <td>0.0</td>\n",
       "      <td>0.0</td>\n",
       "      <td>0.0</td>\n",
       "      <td>val</td>\n",
       "    </tr>\n",
       "    <tr>\n",
       "      <th>9504</th>\n",
       "      <td>35939869</td>\n",
       "      <td>5</td>\n",
       "      <td>48.680117</td>\n",
       "      <td>2.379610</td>\n",
       "      <td>3298</td>\n",
       "      <td>4480</td>\n",
       "      <td>130.0</td>\n",
       "      <td>3.479524</td>\n",
       "      <td>3995.665362</td>\n",
       "      <td>205.385148</td>\n",
       "      <td>...</td>\n",
       "      <td>0.0</td>\n",
       "      <td>3.0</td>\n",
       "      <td>0.0</td>\n",
       "      <td>0.0</td>\n",
       "      <td>0.0</td>\n",
       "      <td>0.0</td>\n",
       "      <td>0.0</td>\n",
       "      <td>0.0</td>\n",
       "      <td>0.0</td>\n",
       "      <td>train</td>\n",
       "    </tr>\n",
       "    <tr>\n",
       "      <th>483</th>\n",
       "      <td>35793809</td>\n",
       "      <td>0</td>\n",
       "      <td>48.971906</td>\n",
       "      <td>2.322882</td>\n",
       "      <td>2375</td>\n",
       "      <td>4725</td>\n",
       "      <td>39.0</td>\n",
       "      <td>2.000000</td>\n",
       "      <td>3995.665362</td>\n",
       "      <td>205.385148</td>\n",
       "      <td>...</td>\n",
       "      <td>0.0</td>\n",
       "      <td>3.0</td>\n",
       "      <td>0.0</td>\n",
       "      <td>0.0</td>\n",
       "      <td>0.0</td>\n",
       "      <td>0.0</td>\n",
       "      <td>0.0</td>\n",
       "      <td>0.0</td>\n",
       "      <td>0.0</td>\n",
       "      <td>train</td>\n",
       "    </tr>\n",
       "  </tbody>\n",
       "</table>\n",
       "<p>5 rows × 28 columns</p>\n",
       "</div>"
      ],
      "text/plain": [
       "       id_annonce  property_type  approximate_latitude  approximate_longitude  \\\n",
       "6757     35851649              0             43.532040               1.237867   \n",
       "21590    35795069             12             48.971530               2.284296   \n",
       "25527    35751703             12             43.244750               2.864573   \n",
       "9504     35939869              5             48.680117               2.379610   \n",
       "483      35793809              0             48.971906               2.322882   \n",
       "\n",
       "       city  postal_code   size     floor    land_size  \\\n",
       "6757   2638         1409   67.0  3.479524  3995.665362   \n",
       "21590  6729         4668  153.0  3.479524   840.000000   \n",
       "25527  8240          366   72.0  3.479524  3995.665362   \n",
       "9504   3298         4480  130.0  3.479524  3995.665362   \n",
       "483    2375         4725   39.0  2.000000  3995.665362   \n",
       "\n",
       "       energy_performance_value  ...  nb_boxes  nb_photos  has_a_balcony  \\\n",
       "6757                 205.385148  ...       0.0        9.0            0.0   \n",
       "21590                326.000000  ...       1.0        8.0            0.0   \n",
       "25527                205.385148  ...       0.0        9.0            0.0   \n",
       "9504                 205.385148  ...       0.0        3.0            0.0   \n",
       "483                  205.385148  ...       0.0        3.0            0.0   \n",
       "\n",
       "       nb_terraces  has_a_cellar  has_a_garage  has_air_conditioning  \\\n",
       "6757           0.0           0.0           0.0                   0.0   \n",
       "21590          1.0           0.0           0.0                   0.0   \n",
       "25527          1.0           0.0           0.0                   0.0   \n",
       "9504           0.0           0.0           0.0                   0.0   \n",
       "483            0.0           0.0           0.0                   0.0   \n",
       "\n",
       "       last_floor  upper_floors  group  \n",
       "6757          0.0           0.0  train  \n",
       "21590         0.0           0.0  train  \n",
       "25527         0.0           0.0    val  \n",
       "9504          0.0           0.0  train  \n",
       "483           0.0           0.0  train  \n",
       "\n",
       "[5 rows x 28 columns]"
      ]
     },
     "execution_count": 22,
     "metadata": {},
     "output_type": "execute_result"
    }
   ],
   "source": [
    "X_reorganized.sample(5)"
   ]
  },
  {
   "cell_type": "code",
   "execution_count": 11,
   "metadata": {
    "id": "b0szp2EOHF5t"
   },
   "outputs": [],
   "source": [
    "#X_reorganized[[\"id_annonce\", \"group\"]]"
   ]
  },
  {
   "cell_type": "code",
   "execution_count": 11,
   "metadata": {
    "id": "f-pJ7aY1HF87"
   },
   "outputs": [],
   "source": []
  },
  {
   "cell_type": "code",
   "execution_count": 23,
   "metadata": {
    "id": "LBYLcEYD1pCN"
   },
   "outputs": [],
   "source": [
    "PATH_IMAGES_DATA = \"real_estate_price_prediction_metadata_images_09042024.csv\""
   ]
  },
  {
   "cell_type": "code",
   "execution_count": 24,
   "metadata": {
    "id": "NI8n22tl1pIT"
   },
   "outputs": [],
   "source": [
    "data_img = pd.read_csv(PATH_IMAGES_DATA)"
   ]
  },
  {
   "cell_type": "code",
   "execution_count": 25,
   "metadata": {
    "id": "xIGNQYpcHx2a"
   },
   "outputs": [],
   "source": [
    "data_img_agg = data_img.groupby('id_annonce')['long_path_image'].apply(list).reset_index(name='images')"
   ]
  },
  {
   "cell_type": "code",
   "execution_count": 26,
   "metadata": {
    "id": "QKIvkALpHx5y"
   },
   "outputs": [],
   "source": [
    "data_img_groups = data_img_agg.merge(\n",
    "    X_reorganized[[\"id_annonce\", \"group\"]],\n",
    "    how='left',\n",
    "    on='id_annonce'\n",
    ")"
   ]
  },
  {
   "cell_type": "code",
   "execution_count": 27,
   "metadata": {
    "colab": {
     "base_uri": "https://localhost:8080/",
     "height": 359
    },
    "id": "O5DUrPL-Hx9-",
    "outputId": "efbd2ee8-871f-4ede-b4b8-74b7a6bf69de"
   },
   "outputs": [
    {
     "data": {
      "text/html": [
       "<div>\n",
       "<style scoped>\n",
       "    .dataframe tbody tr th:only-of-type {\n",
       "        vertical-align: middle;\n",
       "    }\n",
       "\n",
       "    .dataframe tbody tr th {\n",
       "        vertical-align: top;\n",
       "    }\n",
       "\n",
       "    .dataframe thead th {\n",
       "        text-align: right;\n",
       "    }\n",
       "</style>\n",
       "<table border=\"1\" class=\"dataframe\">\n",
       "  <thead>\n",
       "    <tr style=\"text-align: right;\">\n",
       "      <th></th>\n",
       "      <th>id_annonce</th>\n",
       "      <th>images</th>\n",
       "      <th>group</th>\n",
       "    </tr>\n",
       "  </thead>\n",
       "  <tbody>\n",
       "    <tr>\n",
       "      <th>1237</th>\n",
       "      <td>34991273</td>\n",
       "      <td>[./reduced_images/train/ann_34991273/09de71a50...</td>\n",
       "      <td>train</td>\n",
       "    </tr>\n",
       "    <tr>\n",
       "      <th>26404</th>\n",
       "      <td>35997827</td>\n",
       "      <td>[./reduced_images/train/ann_35997827/f3fc52ac5...</td>\n",
       "      <td>train</td>\n",
       "    </tr>\n",
       "    <tr>\n",
       "      <th>2797</th>\n",
       "      <td>35752815</td>\n",
       "      <td>[./reduced_images/train/ann_35752815/69331edc6...</td>\n",
       "      <td>train</td>\n",
       "    </tr>\n",
       "    <tr>\n",
       "      <th>17615</th>\n",
       "      <td>35864213</td>\n",
       "      <td>[./reduced_images/train/ann_35864213/e64af3fe2...</td>\n",
       "      <td>val</td>\n",
       "    </tr>\n",
       "    <tr>\n",
       "      <th>5978</th>\n",
       "      <td>35780261</td>\n",
       "      <td>[./reduced_images/train/ann_35780261/ea8846f69...</td>\n",
       "      <td>train</td>\n",
       "    </tr>\n",
       "    <tr>\n",
       "      <th>1175</th>\n",
       "      <td>34853209</td>\n",
       "      <td>[./reduced_images/train/ann_34853209/e9076ffe2...</td>\n",
       "      <td>train</td>\n",
       "    </tr>\n",
       "    <tr>\n",
       "      <th>8227</th>\n",
       "      <td>35798705</td>\n",
       "      <td>[./reduced_images/train/ann_35798705/4fe3f31d9...</td>\n",
       "      <td>val</td>\n",
       "    </tr>\n",
       "    <tr>\n",
       "      <th>7045</th>\n",
       "      <td>35787321</td>\n",
       "      <td>[./reduced_images/train/ann_35787321/1cdf0e953...</td>\n",
       "      <td>train</td>\n",
       "    </tr>\n",
       "    <tr>\n",
       "      <th>9064</th>\n",
       "      <td>35806941</td>\n",
       "      <td>[./reduced_images/train/ann_35806941/579449251...</td>\n",
       "      <td>train</td>\n",
       "    </tr>\n",
       "    <tr>\n",
       "      <th>3867</th>\n",
       "      <td>35761811</td>\n",
       "      <td>[./reduced_images/train/ann_35761811/5707b7067...</td>\n",
       "      <td>val</td>\n",
       "    </tr>\n",
       "  </tbody>\n",
       "</table>\n",
       "</div>"
      ],
      "text/plain": [
       "       id_annonce                                             images  group\n",
       "1237     34991273  [./reduced_images/train/ann_34991273/09de71a50...  train\n",
       "26404    35997827  [./reduced_images/train/ann_35997827/f3fc52ac5...  train\n",
       "2797     35752815  [./reduced_images/train/ann_35752815/69331edc6...  train\n",
       "17615    35864213  [./reduced_images/train/ann_35864213/e64af3fe2...    val\n",
       "5978     35780261  [./reduced_images/train/ann_35780261/ea8846f69...  train\n",
       "1175     34853209  [./reduced_images/train/ann_34853209/e9076ffe2...  train\n",
       "8227     35798705  [./reduced_images/train/ann_35798705/4fe3f31d9...    val\n",
       "7045     35787321  [./reduced_images/train/ann_35787321/1cdf0e953...  train\n",
       "9064     35806941  [./reduced_images/train/ann_35806941/579449251...  train\n",
       "3867     35761811  [./reduced_images/train/ann_35761811/5707b7067...    val"
      ]
     },
     "execution_count": 27,
     "metadata": {},
     "output_type": "execute_result"
    }
   ],
   "source": [
    "data_img_groups.sample(10)"
   ]
  },
  {
   "cell_type": "code",
   "execution_count": 28,
   "metadata": {
    "id": "t9qGRFnKWPbp"
   },
   "outputs": [],
   "source": [
    "# Define the image transformation\n",
    "preprocess = transforms.Compose([\n",
    "    transforms.Resize((224, 224)),\n",
    "    transforms.ToTensor(),\n",
    "    transforms.Normalize(\n",
    "        mean=[0.485, 0.456, 0.406],\n",
    "        std=[0.229, 0.224, 0.225]\n",
    "        ),\n",
    "])\n"
   ]
  },
  {
   "cell_type": "code",
   "execution_count": 17,
   "metadata": {
    "id": "-K0RgnK-M1NS"
   },
   "outputs": [],
   "source": []
  },
  {
   "cell_type": "code",
   "execution_count": 17,
   "metadata": {
    "id": "g7cYmwHIM1Sl"
   },
   "outputs": [],
   "source": []
  },
  {
   "cell_type": "code",
   "execution_count": 61,
   "metadata": {
    "id": "M0JZdPD-9J8G"
   },
   "outputs": [],
   "source": [
    "class CustomDataset(Dataset):\n",
    "\n",
    "    def __init__(\n",
    "        self,\n",
    "        data_features,\n",
    "        data_target,\n",
    "        data_img_groups,\n",
    "        group='train',\n",
    "        transform=None\n",
    "        ) -> None:\n",
    "\n",
    "        self.group = group\n",
    "\n",
    "        self.data_features = data_features.query(\n",
    "            f\"group == '{self.group}'\"\n",
    "            )\n",
    "\n",
    "        self.data_target = data_target.query(\n",
    "            f\"group == '{self.group}'\"\n",
    "            )\n",
    "\n",
    "        self.data_img_groups = data_img_groups.query(\n",
    "            f\"group == '{self.group}'\"\n",
    "            )\n",
    "\n",
    "        self.transform = transform\n",
    "\n",
    "        self.model = models.resnet152(pretrained=True)\n",
    "        self.model_layers = list(self.model.children())[:-1]\n",
    "        self.model_feature_extract = torch.nn.Sequential(*self.model_layers)\n",
    "\n",
    "        self.set_model_eval()\n",
    "\n",
    "    def __len__(self):\n",
    "        return len(self.data_features)\n",
    "\n",
    "    def set_model_eval(self):\n",
    "      \"\"\"\n",
    "      Set to evaluation model.\n",
    "      \"\"\"\n",
    "      return self.model.eval()\n",
    "\n",
    "\n",
    "    def get_model_embedding(self, img_tensor):\n",
    "\n",
    "      with torch.no_grad():\n",
    "          # Get the image features from the ResNet-152 model\n",
    "          img_features = self.model_feature_extract(img_tensor)\n",
    "\n",
    "      return img_features\n",
    "\n",
    "    def load_image(self, path) -> Image.Image:\n",
    "\n",
    "        return Image.open(path).convert(\"RGB\")\n",
    "\n",
    "    def __getitem__(self, index):\n",
    "\n",
    "        images_path = self.data_img_groups.iloc[index][\"images\"]\n",
    "\n",
    "        images_emmbeded = []\n",
    "\n",
    "        for path in images_path:\n",
    "          image = self.load_image(path)\n",
    "\n",
    "          if self.transform:\n",
    "            image = self.transform(image).unsqueeze(0)\n",
    "\n",
    "            img_embedding = self.get_model_embedding(image)\n",
    "            images_emmbeded.append(img_embedding.flatten())\n",
    "\n",
    "        #images_embbeding = torch.mean(\n",
    "        #                  torch.Tensor(np.array(images_emmbeded)),\n",
    "        #                  axis = 0\n",
    "        #                  )\n",
    "\n",
    "        images_embbeding = torch.stack(images_emmbeded).mean(dim=0)\n",
    "\n",
    "        features = self.data_features.drop(\n",
    "            columns=[\"id_annonce\",\"group\"]\n",
    "            ).iloc[index,:]\n",
    "\n",
    "        #features = torch.from_numpy(features).float()\n",
    "\n",
    "        target = self.data_target[[\"price_scaled\"]].values[index]\n",
    "        #target = np.array(target)\n",
    "        #target = torch.from_numpy(target).float()\n",
    "\n",
    "        #sample = {}\n",
    "\n",
    "        avg_embbeding = images_embbeding\n",
    "        tab_features = torch.tensor(features.values, dtype=torch.float32)\n",
    "        target = torch.tensor(target, dtype=torch.float32)\n",
    "\n",
    "        return avg_embbeding, tab_features, target"
   ]
  },
  {
   "cell_type": "code",
   "execution_count": 62,
   "metadata": {
    "colab": {
     "base_uri": "https://localhost:8080/"
    },
    "id": "1TDDgkOQOkLV",
    "outputId": "1cea5fd8-99a4-4b70-fd70-c10bfcece242"
   },
   "outputs": [
    {
     "name": "stderr",
     "output_type": "stream",
     "text": [
      "/Users/cesar/.pyenv/versions/miniconda3-4.7.12/envs/reto_pytorch/lib/python3.12/site-packages/torchvision/models/_utils.py:208: UserWarning: The parameter 'pretrained' is deprecated since 0.13 and may be removed in the future, please use 'weights' instead.\n",
      "  warnings.warn(\n",
      "/Users/cesar/.pyenv/versions/miniconda3-4.7.12/envs/reto_pytorch/lib/python3.12/site-packages/torchvision/models/_utils.py:223: UserWarning: Arguments other than a weight enum or `None` for 'weights' are deprecated since 0.13 and may be removed in the future. The current behavior is equivalent to passing `weights=ResNet152_Weights.IMAGENET1K_V1`. You can also use `weights=ResNet152_Weights.DEFAULT` to get the most up-to-date weights.\n",
      "  warnings.warn(msg)\n",
      "/Users/cesar/.pyenv/versions/miniconda3-4.7.12/envs/reto_pytorch/lib/python3.12/site-packages/torchvision/models/_utils.py:208: UserWarning: The parameter 'pretrained' is deprecated since 0.13 and may be removed in the future, please use 'weights' instead.\n",
      "  warnings.warn(\n",
      "/Users/cesar/.pyenv/versions/miniconda3-4.7.12/envs/reto_pytorch/lib/python3.12/site-packages/torchvision/models/_utils.py:223: UserWarning: Arguments other than a weight enum or `None` for 'weights' are deprecated since 0.13 and may be removed in the future. The current behavior is equivalent to passing `weights=ResNet152_Weights.IMAGENET1K_V1`. You can also use `weights=ResNet152_Weights.DEFAULT` to get the most up-to-date weights.\n",
      "  warnings.warn(msg)\n",
      "/Users/cesar/.pyenv/versions/miniconda3-4.7.12/envs/reto_pytorch/lib/python3.12/site-packages/torchvision/models/_utils.py:208: UserWarning: The parameter 'pretrained' is deprecated since 0.13 and may be removed in the future, please use 'weights' instead.\n",
      "  warnings.warn(\n",
      "/Users/cesar/.pyenv/versions/miniconda3-4.7.12/envs/reto_pytorch/lib/python3.12/site-packages/torchvision/models/_utils.py:223: UserWarning: Arguments other than a weight enum or `None` for 'weights' are deprecated since 0.13 and may be removed in the future. The current behavior is equivalent to passing `weights=ResNet152_Weights.IMAGENET1K_V1`. You can also use `weights=ResNet152_Weights.DEFAULT` to get the most up-to-date weights.\n",
      "  warnings.warn(msg)\n"
     ]
    }
   ],
   "source": [
    "train_dataset = CustomDataset(\n",
    "        data_features=X_reorganized.head(100),\n",
    "        data_target=y_reorganized.head(100),\n",
    "        data_img_groups=data_img_groups,\n",
    "        group='train',\n",
    "        transform=preprocess\n",
    "    )\n",
    "\n",
    "val_dataset = CustomDataset(\n",
    "        data_features=X_reorganized,\n",
    "        data_target=y_reorganized,\n",
    "        data_img_groups=data_img_groups,\n",
    "        group='val',\n",
    "        transform=preprocess\n",
    ")\n",
    "\n",
    "test_dataset = CustomDataset(\n",
    "        data_features=X_reorganized,\n",
    "        data_target=y_reorganized,\n",
    "        data_img_groups=data_img_groups,\n",
    "        group='test',\n",
    "        transform=preprocess\n",
    ")"
   ]
  },
  {
   "cell_type": "code",
   "execution_count": 63,
   "metadata": {
    "id": "y6itsJqnYbAI"
   },
   "outputs": [],
   "source": [
    "BATCH_SIZE= 20 #1024"
   ]
  },
  {
   "cell_type": "code",
   "execution_count": 64,
   "metadata": {
    "id": "Asqxg6x4We54"
   },
   "outputs": [],
   "source": [
    "train_loader = DataLoader(train_dataset, batch_size=BATCH_SIZE, shuffle=True)\n",
    "val_loader = DataLoader(val_dataset, batch_size=BATCH_SIZE, shuffle=False)\n",
    "test_loader = DataLoader(test_dataset, batch_size=BATCH_SIZE, shuffle=False)"
   ]
  },
  {
   "cell_type": "code",
   "execution_count": 68,
   "metadata": {},
   "outputs": [
    {
     "data": {
      "text/plain": [
       "2048"
      ]
     },
     "execution_count": 68,
     "metadata": {},
     "output_type": "execute_result"
    }
   ],
   "source": [
    "len(train_loader.dataset.__getitem__(1)[0])"
   ]
  },
  {
   "cell_type": "code",
   "execution_count": null,
   "metadata": {},
   "outputs": [],
   "source": []
  },
  {
   "cell_type": "code",
   "execution_count": null,
   "metadata": {},
   "outputs": [],
   "source": [
    "train_loader.dataset.__getitem__(1)"
   ]
  },
  {
   "cell_type": "code",
   "execution_count": 89,
   "metadata": {
    "id": "PrV_Ty7gZjr-"
   },
   "outputs": [],
   "source": [
    "# Define the neural network\n",
    "class PricePredictionModel(nn.Module):\n",
    "    def __init__(self, embedding_size=2048, tabular_input_size=26):  # Adjust tabular_input_size based on your actual features\n",
    "        super(PricePredictionModel, self).__init__()\n",
    "        self.fc1 = nn.Linear(embedding_size+tabular_input_size, 512)  # Output a single value for price prediction\n",
    "        self.fc2 = nn.Linear(512, 1)\n",
    "\n",
    "    def forward(self, image_inputs, tabular_inputs):\n",
    "        combined_embedding = torch.cat((image_inputs, tabular_inputs), dim=1)\n",
    "        output = self.fc1(combined_embedding)\n",
    "        output = self.fc2(output)\n",
    "        return output.squeeze(1) "
   ]
  },
  {
   "cell_type": "code",
   "execution_count": null,
   "metadata": {
    "id": "LUUP4n-dZj4J"
   },
   "outputs": [],
   "source": []
  },
  {
   "cell_type": "code",
   "execution_count": 90,
   "metadata": {
    "id": "zebvMakeZj-E"
   },
   "outputs": [],
   "source": [
    "# Hyperparameters\n",
    "batch_size = 16\n",
    "learning_rate = 0.001\n",
    "num_epochs = 10\n",
    "\n",
    "# Set device\n",
    "device = torch.device('cuda' if torch.cuda.is_available() else 'cpu')\n"
   ]
  },
  {
   "cell_type": "code",
   "execution_count": 93,
   "metadata": {
    "id": "T3_HgriYZkDo"
   },
   "outputs": [],
   "source": [
    "# Initialize the model, loss, and optimizer\n",
    "model = PricePredictionModel().to(device)\n",
    "criterion = nn.MSELoss()\n",
    "optimizer = optim.Adam(model.parameters(), lr=learning_rate)\n"
   ]
  },
  {
   "cell_type": "code",
   "execution_count": null,
   "metadata": {},
   "outputs": [],
   "source": []
  },
  {
   "cell_type": "code",
   "execution_count": null,
   "metadata": {},
   "outputs": [],
   "source": []
  },
  {
   "cell_type": "code",
   "execution_count": null,
   "metadata": {
    "id": "oUM2GtpAZkW5"
   },
   "outputs": [
    {
     "name": "stdout",
     "output_type": "stream",
     "text": [
      "Epoch [1/10], Step [1/5], Loss: 1901.5789\n",
      "Epoch [1/10], Step [2/5], Loss: 576.6666\n",
      "Epoch [1/10], Step [3/5], Loss: 669.2802\n",
      "Epoch [1/10], Step [4/5], Loss: 523.3038\n",
      "Epoch [1/10], Step [5/5], Loss: 468.4623\n",
      "Epoch [2/10], Step [1/5], Loss: 211.5016\n",
      "Epoch [2/10], Step [2/5], Loss: 1364.6394\n",
      "Epoch [2/10], Step [3/5], Loss: 877.6251\n",
      "Epoch [2/10], Step [4/5], Loss: 385.6054\n",
      "Epoch [2/10], Step [5/5], Loss: 306.0905\n",
      "Epoch [3/10], Step [1/5], Loss: 1112.4033\n",
      "Epoch [3/10], Step [2/5], Loss: 130.9079\n",
      "Epoch [3/10], Step [3/5], Loss: 369.2668\n",
      "Epoch [3/10], Step [4/5], Loss: 363.7661\n",
      "Epoch [3/10], Step [5/5], Loss: 639.0367\n",
      "Epoch [4/10], Step [1/5], Loss: 231.0081\n",
      "Epoch [4/10], Step [2/5], Loss: 454.8429\n",
      "Epoch [4/10], Step [3/5], Loss: 51.4064\n",
      "Epoch [4/10], Step [4/5], Loss: 99.5666\n"
     ]
    }
   ],
   "source": [
    "# Training loop\n",
    "for epoch in range(num_epochs):\n",
    "    for batch_idx, (avg_embbeding, tab_features, target) in enumerate(train_loader):\n",
    "        avg_embbeding, tab_features, target = avg_embbeding.to(device), tab_features.to(device), target.to(device)\n",
    "\n",
    "        optimizer.zero_grad()\n",
    "        outputs = model(avg_embbeding, tab_features)\n",
    "        loss = criterion(outputs, target.squeeze(1))\n",
    "        loss.backward()\n",
    "        optimizer.step()\n",
    "\n",
    "        if (batch_idx + 1) % 1 == 0:\n",
    "            print(f'Epoch [{epoch + 1}/{num_epochs}], Step [{batch_idx + 1}/{len(train_loader)}], Loss: {loss.item():.4f}')"
   ]
  },
  {
   "cell_type": "code",
   "execution_count": null,
   "metadata": {
    "id": "QbffUcgnZkbv"
   },
   "outputs": [],
   "source": []
  },
  {
   "cell_type": "code",
   "execution_count": null,
   "metadata": {
    "id": "_lOIWJbbZkuZ"
   },
   "outputs": [],
   "source": []
  }
 ],
 "metadata": {
  "accelerator": "GPU",
  "colab": {
   "gpuType": "T4",
   "provenance": []
  },
  "kernelspec": {
   "display_name": "Python 3 (ipykernel)",
   "language": "python",
   "name": "python3"
  },
  "language_info": {
   "codemirror_mode": {
    "name": "ipython",
    "version": 3
   },
   "file_extension": ".py",
   "mimetype": "text/x-python",
   "name": "python",
   "nbconvert_exporter": "python",
   "pygments_lexer": "ipython3",
   "version": "3.12.2"
  },
  "widgets": {
   "application/vnd.jupyter.widget-state+json": {
    "15a41bf1f6fc46649196a0fed0b66232": {
     "model_module": "@jupyter-widgets/base",
     "model_module_version": "1.2.0",
     "model_name": "LayoutModel",
     "state": {
      "_model_module": "@jupyter-widgets/base",
      "_model_module_version": "1.2.0",
      "_model_name": "LayoutModel",
      "_view_count": null,
      "_view_module": "@jupyter-widgets/base",
      "_view_module_version": "1.2.0",
      "_view_name": "LayoutView",
      "align_content": null,
      "align_items": null,
      "align_self": null,
      "border": null,
      "bottom": null,
      "display": null,
      "flex": null,
      "flex_flow": null,
      "grid_area": null,
      "grid_auto_columns": null,
      "grid_auto_flow": null,
      "grid_auto_rows": null,
      "grid_column": null,
      "grid_gap": null,
      "grid_row": null,
      "grid_template_areas": null,
      "grid_template_columns": null,
      "grid_template_rows": null,
      "height": null,
      "justify_content": null,
      "justify_items": null,
      "left": null,
      "margin": null,
      "max_height": null,
      "max_width": null,
      "min_height": null,
      "min_width": null,
      "object_fit": null,
      "object_position": null,
      "order": null,
      "overflow": null,
      "overflow_x": null,
      "overflow_y": null,
      "padding": null,
      "right": null,
      "top": null,
      "visibility": null,
      "width": null
     }
    },
    "1784b6b66da44158a5a532e7c0cc7150": {
     "model_module": "@jupyter-widgets/controls",
     "model_module_version": "1.5.0",
     "model_name": "DescriptionStyleModel",
     "state": {
      "_model_module": "@jupyter-widgets/controls",
      "_model_module_version": "1.5.0",
      "_model_name": "DescriptionStyleModel",
      "_view_count": null,
      "_view_module": "@jupyter-widgets/base",
      "_view_module_version": "1.2.0",
      "_view_name": "StyleView",
      "description_width": ""
     }
    },
    "22adc61ade3647ec8dc185f24a12c764": {
     "model_module": "@jupyter-widgets/controls",
     "model_module_version": "1.5.0",
     "model_name": "FloatProgressModel",
     "state": {
      "_dom_classes": [],
      "_model_module": "@jupyter-widgets/controls",
      "_model_module_version": "1.5.0",
      "_model_name": "FloatProgressModel",
      "_view_count": null,
      "_view_module": "@jupyter-widgets/controls",
      "_view_module_version": "1.5.0",
      "_view_name": "ProgressView",
      "bar_style": "danger",
      "description": "",
      "description_tooltip": null,
      "layout": "IPY_MODEL_5fc5dd5662e642c986bc70f01f713f2a",
      "max": 5,
      "min": 0,
      "orientation": "horizontal",
      "style": "IPY_MODEL_8b2d4fd3575f4b79af1830b68f8a84dc",
      "value": 0
     }
    },
    "5792e506008e4121a9d10562e9b2b274": {
     "model_module": "@jupyter-widgets/controls",
     "model_module_version": "1.5.0",
     "model_name": "DescriptionStyleModel",
     "state": {
      "_model_module": "@jupyter-widgets/controls",
      "_model_module_version": "1.5.0",
      "_model_name": "DescriptionStyleModel",
      "_view_count": null,
      "_view_module": "@jupyter-widgets/base",
      "_view_module_version": "1.2.0",
      "_view_name": "StyleView",
      "description_width": ""
     }
    },
    "5fc5dd5662e642c986bc70f01f713f2a": {
     "model_module": "@jupyter-widgets/base",
     "model_module_version": "1.2.0",
     "model_name": "LayoutModel",
     "state": {
      "_model_module": "@jupyter-widgets/base",
      "_model_module_version": "1.2.0",
      "_model_name": "LayoutModel",
      "_view_count": null,
      "_view_module": "@jupyter-widgets/base",
      "_view_module_version": "1.2.0",
      "_view_name": "LayoutView",
      "align_content": null,
      "align_items": null,
      "align_self": null,
      "border": null,
      "bottom": null,
      "display": null,
      "flex": null,
      "flex_flow": null,
      "grid_area": null,
      "grid_auto_columns": null,
      "grid_auto_flow": null,
      "grid_auto_rows": null,
      "grid_column": null,
      "grid_gap": null,
      "grid_row": null,
      "grid_template_areas": null,
      "grid_template_columns": null,
      "grid_template_rows": null,
      "height": null,
      "justify_content": null,
      "justify_items": null,
      "left": null,
      "margin": null,
      "max_height": null,
      "max_width": null,
      "min_height": null,
      "min_width": null,
      "object_fit": null,
      "object_position": null,
      "order": null,
      "overflow": null,
      "overflow_x": null,
      "overflow_y": null,
      "padding": null,
      "right": null,
      "top": null,
      "visibility": null,
      "width": null
     }
    },
    "8262e6b03f0d4806a674ab9c52a175a4": {
     "model_module": "@jupyter-widgets/base",
     "model_module_version": "1.2.0",
     "model_name": "LayoutModel",
     "state": {
      "_model_module": "@jupyter-widgets/base",
      "_model_module_version": "1.2.0",
      "_model_name": "LayoutModel",
      "_view_count": null,
      "_view_module": "@jupyter-widgets/base",
      "_view_module_version": "1.2.0",
      "_view_name": "LayoutView",
      "align_content": null,
      "align_items": null,
      "align_self": null,
      "border": null,
      "bottom": null,
      "display": null,
      "flex": null,
      "flex_flow": null,
      "grid_area": null,
      "grid_auto_columns": null,
      "grid_auto_flow": null,
      "grid_auto_rows": null,
      "grid_column": null,
      "grid_gap": null,
      "grid_row": null,
      "grid_template_areas": null,
      "grid_template_columns": null,
      "grid_template_rows": null,
      "height": null,
      "justify_content": null,
      "justify_items": null,
      "left": null,
      "margin": null,
      "max_height": null,
      "max_width": null,
      "min_height": null,
      "min_width": null,
      "object_fit": null,
      "object_position": null,
      "order": null,
      "overflow": null,
      "overflow_x": null,
      "overflow_y": null,
      "padding": null,
      "right": null,
      "top": null,
      "visibility": null,
      "width": null
     }
    },
    "8b2d4fd3575f4b79af1830b68f8a84dc": {
     "model_module": "@jupyter-widgets/controls",
     "model_module_version": "1.5.0",
     "model_name": "ProgressStyleModel",
     "state": {
      "_model_module": "@jupyter-widgets/controls",
      "_model_module_version": "1.5.0",
      "_model_name": "ProgressStyleModel",
      "_view_count": null,
      "_view_module": "@jupyter-widgets/base",
      "_view_module_version": "1.2.0",
      "_view_name": "StyleView",
      "bar_color": null,
      "description_width": ""
     }
    },
    "948b59d0a5f645dcb1ace7bd8dc9cea0": {
     "model_module": "@jupyter-widgets/controls",
     "model_module_version": "1.5.0",
     "model_name": "HBoxModel",
     "state": {
      "_dom_classes": [],
      "_model_module": "@jupyter-widgets/controls",
      "_model_module_version": "1.5.0",
      "_model_name": "HBoxModel",
      "_view_count": null,
      "_view_module": "@jupyter-widgets/controls",
      "_view_module_version": "1.5.0",
      "_view_name": "HBoxView",
      "box_style": "",
      "children": [
       "IPY_MODEL_98be11d2ea2f4b66bde9bbe41620acbf",
       "IPY_MODEL_22adc61ade3647ec8dc185f24a12c764",
       "IPY_MODEL_cd0f239ed5614780af93066261647fa1"
      ],
      "layout": "IPY_MODEL_15a41bf1f6fc46649196a0fed0b66232"
     }
    },
    "98be11d2ea2f4b66bde9bbe41620acbf": {
     "model_module": "@jupyter-widgets/controls",
     "model_module_version": "1.5.0",
     "model_name": "HTMLModel",
     "state": {
      "_dom_classes": [],
      "_model_module": "@jupyter-widgets/controls",
      "_model_module_version": "1.5.0",
      "_model_name": "HTMLModel",
      "_view_count": null,
      "_view_module": "@jupyter-widgets/controls",
      "_view_module_version": "1.5.0",
      "_view_name": "HTMLView",
      "description": "",
      "description_tooltip": null,
      "layout": "IPY_MODEL_f6e2cba917ea4f699ee2d5a36d9be0a5",
      "placeholder": "​",
      "style": "IPY_MODEL_5792e506008e4121a9d10562e9b2b274",
      "value": "Epoch_Train:   0%"
     }
    },
    "cd0f239ed5614780af93066261647fa1": {
     "model_module": "@jupyter-widgets/controls",
     "model_module_version": "1.5.0",
     "model_name": "HTMLModel",
     "state": {
      "_dom_classes": [],
      "_model_module": "@jupyter-widgets/controls",
      "_model_module_version": "1.5.0",
      "_model_name": "HTMLModel",
      "_view_count": null,
      "_view_module": "@jupyter-widgets/controls",
      "_view_module_version": "1.5.0",
      "_view_name": "HTMLView",
      "description": "",
      "description_tooltip": null,
      "layout": "IPY_MODEL_8262e6b03f0d4806a674ab9c52a175a4",
      "placeholder": "​",
      "style": "IPY_MODEL_1784b6b66da44158a5a532e7c0cc7150",
      "value": " 0/5 [00:32&lt;?, ?it/s]"
     }
    },
    "f6e2cba917ea4f699ee2d5a36d9be0a5": {
     "model_module": "@jupyter-widgets/base",
     "model_module_version": "1.2.0",
     "model_name": "LayoutModel",
     "state": {
      "_model_module": "@jupyter-widgets/base",
      "_model_module_version": "1.2.0",
      "_model_name": "LayoutModel",
      "_view_count": null,
      "_view_module": "@jupyter-widgets/base",
      "_view_module_version": "1.2.0",
      "_view_name": "LayoutView",
      "align_content": null,
      "align_items": null,
      "align_self": null,
      "border": null,
      "bottom": null,
      "display": null,
      "flex": null,
      "flex_flow": null,
      "grid_area": null,
      "grid_auto_columns": null,
      "grid_auto_flow": null,
      "grid_auto_rows": null,
      "grid_column": null,
      "grid_gap": null,
      "grid_row": null,
      "grid_template_areas": null,
      "grid_template_columns": null,
      "grid_template_rows": null,
      "height": null,
      "justify_content": null,
      "justify_items": null,
      "left": null,
      "margin": null,
      "max_height": null,
      "max_width": null,
      "min_height": null,
      "min_width": null,
      "object_fit": null,
      "object_position": null,
      "order": null,
      "overflow": null,
      "overflow_x": null,
      "overflow_y": null,
      "padding": null,
      "right": null,
      "top": null,
      "visibility": null,
      "width": null
     }
    }
   }
  }
 },
 "nbformat": 4,
 "nbformat_minor": 4
}
