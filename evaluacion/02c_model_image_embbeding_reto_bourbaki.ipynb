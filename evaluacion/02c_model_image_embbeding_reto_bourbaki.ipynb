{
  "cells": [
    {
      "cell_type": "code",
      "execution_count": null,
      "metadata": {},
      "outputs": [],
      "source": []
    },
    {
      "cell_type": "code",
      "execution_count": 1,
      "metadata": {
        "id": "vExaOtgt44tm"
      },
      "outputs": [],
      "source": [
        "import pandas as pd\n",
        "import numpy as np\n",
        "from PIL import Image\n",
        "\n",
        "from sklearn.preprocessing import MinMaxScaler\n",
        "from sklearn.model_selection import train_test_split\n",
        "\n",
        "from tqdm.notebook import tqdm\n",
        "\n",
        "\n",
        "import torch\n",
        "import torch.nn as nn\n",
        "from torch.utils.data import Dataset, DataLoader\n",
        "import torch.optim as optim\n",
        "import torchvision.transforms as transforms\n",
        "import torchvision.models as models\n",
        "from torchvision import transforms"
      ]
    },
    {
      "cell_type": "code",
      "execution_count": 2,
      "metadata": {
        "id": "zDsMUxIv0-3d"
      },
      "outputs": [],
      "source": [
        "#PATH_TABULAR_DATA = \"./drive/MyDrive/real_estate_price_prediction_processed_09042024.csv\"\n",
        "PATH_TABULAR_DATA = \"./real_estate_price_prediction_processed_09042024.csv\"\n"
      ]
    },
    {
      "cell_type": "code",
      "execution_count": 3,
      "metadata": {
        "id": "7XqalGDN03B6"
      },
      "outputs": [],
      "source": [
        "data_tab = pd.read_csv(PATH_TABULAR_DATA)"
      ]
    },
    {
      "cell_type": "code",
      "execution_count": 4,
      "metadata": {
        "id": "rGtdnVcPFhFQ"
      },
      "outputs": [],
      "source": [
        "data_tab[[\"price_scaled\"]] = MinMaxScaler().fit_transform(data_tab[[\"price\"]])"
      ]
    },
    {
      "cell_type": "code",
      "execution_count": 5,
      "metadata": {
        "colab": {
          "base_uri": "https://localhost:8080/",
          "height": 253
        },
        "id": "HdneEMsi1jNQ",
        "outputId": "05ead0a7-0f1b-4383-9df0-41547c971c86"
      },
      "outputs": [
        {
          "data": {
            "text/html": [
              "<div>\n",
              "<style scoped>\n",
              "    .dataframe tbody tr th:only-of-type {\n",
              "        vertical-align: middle;\n",
              "    }\n",
              "\n",
              "    .dataframe tbody tr th {\n",
              "        vertical-align: top;\n",
              "    }\n",
              "\n",
              "    .dataframe thead th {\n",
              "        text-align: right;\n",
              "    }\n",
              "</style>\n",
              "<table border=\"1\" class=\"dataframe\">\n",
              "  <thead>\n",
              "    <tr style=\"text-align: right;\">\n",
              "      <th></th>\n",
              "      <th>id_annonce</th>\n",
              "      <th>property_type</th>\n",
              "      <th>approximate_latitude</th>\n",
              "      <th>approximate_longitude</th>\n",
              "      <th>city</th>\n",
              "      <th>postal_code</th>\n",
              "      <th>size</th>\n",
              "      <th>floor</th>\n",
              "      <th>land_size</th>\n",
              "      <th>energy_performance_value</th>\n",
              "      <th>...</th>\n",
              "      <th>nb_photos</th>\n",
              "      <th>has_a_balcony</th>\n",
              "      <th>nb_terraces</th>\n",
              "      <th>has_a_cellar</th>\n",
              "      <th>has_a_garage</th>\n",
              "      <th>has_air_conditioning</th>\n",
              "      <th>last_floor</th>\n",
              "      <th>upper_floors</th>\n",
              "      <th>price</th>\n",
              "      <th>price_scaled</th>\n",
              "    </tr>\n",
              "  </thead>\n",
              "  <tbody>\n",
              "    <tr>\n",
              "      <th>0</th>\n",
              "      <td>35996577</td>\n",
              "      <td>0</td>\n",
              "      <td>43.643880</td>\n",
              "      <td>7.117183</td>\n",
              "      <td>8452</td>\n",
              "      <td>199</td>\n",
              "      <td>63.0</td>\n",
              "      <td>3.479524</td>\n",
              "      <td>3995.665362</td>\n",
              "      <td>205.385148</td>\n",
              "      <td>...</td>\n",
              "      <td>4.0</td>\n",
              "      <td>0.0</td>\n",
              "      <td>1.0</td>\n",
              "      <td>0.0</td>\n",
              "      <td>0.0</td>\n",
              "      <td>0.0</td>\n",
              "      <td>0.0</td>\n",
              "      <td>0.0</td>\n",
              "      <td>355000.0</td>\n",
              "      <td>0.145320</td>\n",
              "    </tr>\n",
              "    <tr>\n",
              "      <th>1</th>\n",
              "      <td>35811033</td>\n",
              "      <td>0</td>\n",
              "      <td>45.695757</td>\n",
              "      <td>4.895610</td>\n",
              "      <td>8234</td>\n",
              "      <td>3347</td>\n",
              "      <td>90.0</td>\n",
              "      <td>3.000000</td>\n",
              "      <td>3995.665362</td>\n",
              "      <td>223.000000</td>\n",
              "      <td>...</td>\n",
              "      <td>8.0</td>\n",
              "      <td>0.0</td>\n",
              "      <td>0.0</td>\n",
              "      <td>0.0</td>\n",
              "      <td>0.0</td>\n",
              "      <td>0.0</td>\n",
              "      <td>0.0</td>\n",
              "      <td>0.0</td>\n",
              "      <td>190000.0</td>\n",
              "      <td>0.072778</td>\n",
              "    </tr>\n",
              "    <tr>\n",
              "      <th>2</th>\n",
              "      <td>35731841</td>\n",
              "      <td>12</td>\n",
              "      <td>47.966791</td>\n",
              "      <td>-1.220451</td>\n",
              "      <td>5235</td>\n",
              "      <td>1650</td>\n",
              "      <td>61.0</td>\n",
              "      <td>3.479524</td>\n",
              "      <td>370.000000</td>\n",
              "      <td>205.385148</td>\n",
              "      <td>...</td>\n",
              "      <td>4.0</td>\n",
              "      <td>0.0</td>\n",
              "      <td>0.0</td>\n",
              "      <td>0.0</td>\n",
              "      <td>0.0</td>\n",
              "      <td>0.0</td>\n",
              "      <td>0.0</td>\n",
              "      <td>0.0</td>\n",
              "      <td>39000.0</td>\n",
              "      <td>0.006390</td>\n",
              "    </tr>\n",
              "    <tr>\n",
              "      <th>3</th>\n",
              "      <td>35886765</td>\n",
              "      <td>12</td>\n",
              "      <td>47.289292</td>\n",
              "      <td>-1.878805</td>\n",
              "      <td>1929</td>\n",
              "      <td>2050</td>\n",
              "      <td>142.0</td>\n",
              "      <td>3.479524</td>\n",
              "      <td>764.000000</td>\n",
              "      <td>217.000000</td>\n",
              "      <td>...</td>\n",
              "      <td>8.0</td>\n",
              "      <td>0.0</td>\n",
              "      <td>1.0</td>\n",
              "      <td>0.0</td>\n",
              "      <td>0.0</td>\n",
              "      <td>0.0</td>\n",
              "      <td>0.0</td>\n",
              "      <td>0.0</td>\n",
              "      <td>299000.0</td>\n",
              "      <td>0.120699</td>\n",
              "    </tr>\n",
              "    <tr>\n",
              "      <th>4</th>\n",
              "      <td>35781137</td>\n",
              "      <td>0</td>\n",
              "      <td>45.718992</td>\n",
              "      <td>4.844234</td>\n",
              "      <td>4476</td>\n",
              "      <td>3334</td>\n",
              "      <td>88.0</td>\n",
              "      <td>3.000000</td>\n",
              "      <td>3995.665362</td>\n",
              "      <td>205.385148</td>\n",
              "      <td>...</td>\n",
              "      <td>5.0</td>\n",
              "      <td>1.0</td>\n",
              "      <td>0.0</td>\n",
              "      <td>0.0</td>\n",
              "      <td>0.0</td>\n",
              "      <td>0.0</td>\n",
              "      <td>0.0</td>\n",
              "      <td>0.0</td>\n",
              "      <td>478000.0</td>\n",
              "      <td>0.199397</td>\n",
              "    </tr>\n",
              "  </tbody>\n",
              "</table>\n",
              "<p>5 rows × 29 columns</p>\n",
              "</div>"
            ],
            "text/plain": [
              "   id_annonce  property_type  approximate_latitude  approximate_longitude  \\\n",
              "0    35996577              0             43.643880               7.117183   \n",
              "1    35811033              0             45.695757               4.895610   \n",
              "2    35731841             12             47.966791              -1.220451   \n",
              "3    35886765             12             47.289292              -1.878805   \n",
              "4    35781137              0             45.718992               4.844234   \n",
              "\n",
              "   city  postal_code   size     floor    land_size  energy_performance_value  \\\n",
              "0  8452          199   63.0  3.479524  3995.665362                205.385148   \n",
              "1  8234         3347   90.0  3.000000  3995.665362                223.000000   \n",
              "2  5235         1650   61.0  3.479524   370.000000                205.385148   \n",
              "3  1929         2050  142.0  3.479524   764.000000                217.000000   \n",
              "4  4476         3334   88.0  3.000000  3995.665362                205.385148   \n",
              "\n",
              "   ...  nb_photos  has_a_balcony  nb_terraces  has_a_cellar  has_a_garage  \\\n",
              "0  ...        4.0            0.0          1.0           0.0           0.0   \n",
              "1  ...        8.0            0.0          0.0           0.0           0.0   \n",
              "2  ...        4.0            0.0          0.0           0.0           0.0   \n",
              "3  ...        8.0            0.0          1.0           0.0           0.0   \n",
              "4  ...        5.0            1.0          0.0           0.0           0.0   \n",
              "\n",
              "   has_air_conditioning  last_floor  upper_floors     price  price_scaled  \n",
              "0                   0.0         0.0           0.0  355000.0      0.145320  \n",
              "1                   0.0         0.0           0.0  190000.0      0.072778  \n",
              "2                   0.0         0.0           0.0   39000.0      0.006390  \n",
              "3                   0.0         0.0           0.0  299000.0      0.120699  \n",
              "4                   0.0         0.0           0.0  478000.0      0.199397  \n",
              "\n",
              "[5 rows x 29 columns]"
            ]
          },
          "execution_count": 5,
          "metadata": {},
          "output_type": "execute_result"
        }
      ],
      "source": [
        "data_tab.head()"
      ]
    },
    {
      "cell_type": "code",
      "execution_count": 6,
      "metadata": {
        "id": "YbWxI-EgFT4E"
      },
      "outputs": [],
      "source": [
        "X_train_, X_test, y_train_, y_test= train_test_split(\n",
        "    data_tab.drop(columns=[\"price\", \"price_scaled\"]),\n",
        "    data_tab[\"price_scaled\"],\n",
        "    test_size=0.20,\n",
        "    random_state=123,\n",
        "    shuffle=True\n",
        "    )"
      ]
    },
    {
      "cell_type": "code",
      "execution_count": 7,
      "metadata": {
        "id": "hAEOQUi_FT9V"
      },
      "outputs": [],
      "source": [
        "X_train, X_val, y_train, y_val = train_test_split(\n",
        "    X_train_,\n",
        "    y_train_,\n",
        "    test_size=0.20,\n",
        "    random_state=123,\n",
        "    shuffle=True\n",
        "    )"
      ]
    },
    {
      "cell_type": "code",
      "execution_count": 8,
      "metadata": {
        "id": "qEZsei-nGb6U"
      },
      "outputs": [],
      "source": [
        "X_reorganized = pd.concat(\n",
        "    [\n",
        "        pd.DataFrame(X_train).assign(group=\"train\"),\n",
        "        pd.DataFrame(X_val).assign(group=\"val\"),\n",
        "        pd.DataFrame(X_test).assign(group=\"test\")\n",
        "    ]\n",
        ").reset_index(drop=True)\n",
        "\n",
        "\n",
        "y_reorganized = pd.concat(\n",
        "    [\n",
        "        pd.DataFrame(y_train).assign(group=\"train\"),\n",
        "        pd.DataFrame(y_val).assign(group=\"val\"),\n",
        "        pd.DataFrame(y_test).assign(group=\"test\")\n",
        "    ]\n",
        ").reset_index(drop=True)"
      ]
    },
    {
      "cell_type": "code",
      "execution_count": 9,
      "metadata": {
        "colab": {
          "base_uri": "https://localhost:8080/",
          "height": 253
        },
        "id": "qBU61NfWHFxh",
        "outputId": "a601a139-8c26-4504-cae1-45a1e72e760b"
      },
      "outputs": [
        {
          "data": {
            "text/html": [
              "<div>\n",
              "<style scoped>\n",
              "    .dataframe tbody tr th:only-of-type {\n",
              "        vertical-align: middle;\n",
              "    }\n",
              "\n",
              "    .dataframe tbody tr th {\n",
              "        vertical-align: top;\n",
              "    }\n",
              "\n",
              "    .dataframe thead th {\n",
              "        text-align: right;\n",
              "    }\n",
              "</style>\n",
              "<table border=\"1\" class=\"dataframe\">\n",
              "  <thead>\n",
              "    <tr style=\"text-align: right;\">\n",
              "      <th></th>\n",
              "      <th>id_annonce</th>\n",
              "      <th>property_type</th>\n",
              "      <th>approximate_latitude</th>\n",
              "      <th>approximate_longitude</th>\n",
              "      <th>city</th>\n",
              "      <th>postal_code</th>\n",
              "      <th>size</th>\n",
              "      <th>floor</th>\n",
              "      <th>land_size</th>\n",
              "      <th>energy_performance_value</th>\n",
              "      <th>...</th>\n",
              "      <th>nb_boxes</th>\n",
              "      <th>nb_photos</th>\n",
              "      <th>has_a_balcony</th>\n",
              "      <th>nb_terraces</th>\n",
              "      <th>has_a_cellar</th>\n",
              "      <th>has_a_garage</th>\n",
              "      <th>has_air_conditioning</th>\n",
              "      <th>last_floor</th>\n",
              "      <th>upper_floors</th>\n",
              "      <th>group</th>\n",
              "    </tr>\n",
              "  </thead>\n",
              "  <tbody>\n",
              "    <tr>\n",
              "      <th>371</th>\n",
              "      <td>36071049</td>\n",
              "      <td>0</td>\n",
              "      <td>45.809810</td>\n",
              "      <td>4.848647</td>\n",
              "      <td>1231</td>\n",
              "      <td>3357</td>\n",
              "      <td>67.0</td>\n",
              "      <td>2.000000</td>\n",
              "      <td>3995.665362</td>\n",
              "      <td>80.000000</td>\n",
              "      <td>...</td>\n",
              "      <td>1.0</td>\n",
              "      <td>1.0</td>\n",
              "      <td>0.0</td>\n",
              "      <td>1.0</td>\n",
              "      <td>0.0</td>\n",
              "      <td>0.0</td>\n",
              "      <td>0.0</td>\n",
              "      <td>0.0</td>\n",
              "      <td>0.0</td>\n",
              "      <td>train</td>\n",
              "    </tr>\n",
              "    <tr>\n",
              "      <th>6824</th>\n",
              "      <td>36011861</td>\n",
              "      <td>5</td>\n",
              "      <td>47.910551</td>\n",
              "      <td>1.901060</td>\n",
              "      <td>5515</td>\n",
              "      <td>2097</td>\n",
              "      <td>171.0</td>\n",
              "      <td>3.479524</td>\n",
              "      <td>180.000000</td>\n",
              "      <td>205.385148</td>\n",
              "      <td>...</td>\n",
              "      <td>0.0</td>\n",
              "      <td>1.0</td>\n",
              "      <td>0.0</td>\n",
              "      <td>0.0</td>\n",
              "      <td>1.0</td>\n",
              "      <td>0.0</td>\n",
              "      <td>0.0</td>\n",
              "      <td>0.0</td>\n",
              "      <td>0.0</td>\n",
              "      <td>train</td>\n",
              "    </tr>\n",
              "    <tr>\n",
              "      <th>35348</th>\n",
              "      <td>35881155</td>\n",
              "      <td>12</td>\n",
              "      <td>49.049022</td>\n",
              "      <td>2.098270</td>\n",
              "      <td>5950</td>\n",
              "      <td>4677</td>\n",
              "      <td>168.0</td>\n",
              "      <td>3.479524</td>\n",
              "      <td>494.000000</td>\n",
              "      <td>326.000000</td>\n",
              "      <td>...</td>\n",
              "      <td>0.0</td>\n",
              "      <td>10.0</td>\n",
              "      <td>0.0</td>\n",
              "      <td>0.0</td>\n",
              "      <td>0.0</td>\n",
              "      <td>1.0</td>\n",
              "      <td>0.0</td>\n",
              "      <td>0.0</td>\n",
              "      <td>0.0</td>\n",
              "      <td>test</td>\n",
              "    </tr>\n",
              "    <tr>\n",
              "      <th>11903</th>\n",
              "      <td>36014251</td>\n",
              "      <td>0</td>\n",
              "      <td>43.725123</td>\n",
              "      <td>4.803290</td>\n",
              "      <td>4731</td>\n",
              "      <td>516</td>\n",
              "      <td>8834.0</td>\n",
              "      <td>3.479524</td>\n",
              "      <td>130.000000</td>\n",
              "      <td>141.000000</td>\n",
              "      <td>...</td>\n",
              "      <td>0.0</td>\n",
              "      <td>5.0</td>\n",
              "      <td>0.0</td>\n",
              "      <td>0.0</td>\n",
              "      <td>0.0</td>\n",
              "      <td>1.0</td>\n",
              "      <td>0.0</td>\n",
              "      <td>0.0</td>\n",
              "      <td>0.0</td>\n",
              "      <td>train</td>\n",
              "    </tr>\n",
              "    <tr>\n",
              "      <th>12068</th>\n",
              "      <td>29477621</td>\n",
              "      <td>0</td>\n",
              "      <td>48.789343</td>\n",
              "      <td>2.505662</td>\n",
              "      <td>7003</td>\n",
              "      <td>4613</td>\n",
              "      <td>6212.0</td>\n",
              "      <td>2.000000</td>\n",
              "      <td>1088.000000</td>\n",
              "      <td>205.385148</td>\n",
              "      <td>...</td>\n",
              "      <td>0.0</td>\n",
              "      <td>14.0</td>\n",
              "      <td>1.0</td>\n",
              "      <td>0.0</td>\n",
              "      <td>1.0</td>\n",
              "      <td>0.0</td>\n",
              "      <td>0.0</td>\n",
              "      <td>0.0</td>\n",
              "      <td>0.0</td>\n",
              "      <td>train</td>\n",
              "    </tr>\n",
              "  </tbody>\n",
              "</table>\n",
              "<p>5 rows × 28 columns</p>\n",
              "</div>"
            ],
            "text/plain": [
              "       id_annonce  property_type  approximate_latitude  approximate_longitude  \\\n",
              "371      36071049              0             45.809810               4.848647   \n",
              "6824     36011861              5             47.910551               1.901060   \n",
              "35348    35881155             12             49.049022               2.098270   \n",
              "11903    36014251              0             43.725123               4.803290   \n",
              "12068    29477621              0             48.789343               2.505662   \n",
              "\n",
              "       city  postal_code    size     floor    land_size  \\\n",
              "371    1231         3357    67.0  2.000000  3995.665362   \n",
              "6824   5515         2097   171.0  3.479524   180.000000   \n",
              "35348  5950         4677   168.0  3.479524   494.000000   \n",
              "11903  4731          516  8834.0  3.479524   130.000000   \n",
              "12068  7003         4613  6212.0  2.000000  1088.000000   \n",
              "\n",
              "       energy_performance_value  ...  nb_boxes  nb_photos  has_a_balcony  \\\n",
              "371                   80.000000  ...       1.0        1.0            0.0   \n",
              "6824                 205.385148  ...       0.0        1.0            0.0   \n",
              "35348                326.000000  ...       0.0       10.0            0.0   \n",
              "11903                141.000000  ...       0.0        5.0            0.0   \n",
              "12068                205.385148  ...       0.0       14.0            1.0   \n",
              "\n",
              "       nb_terraces  has_a_cellar  has_a_garage  has_air_conditioning  \\\n",
              "371            1.0           0.0           0.0                   0.0   \n",
              "6824           0.0           1.0           0.0                   0.0   \n",
              "35348          0.0           0.0           1.0                   0.0   \n",
              "11903          0.0           0.0           1.0                   0.0   \n",
              "12068          0.0           1.0           0.0                   0.0   \n",
              "\n",
              "       last_floor  upper_floors  group  \n",
              "371           0.0           0.0  train  \n",
              "6824          0.0           0.0  train  \n",
              "35348         0.0           0.0   test  \n",
              "11903         0.0           0.0  train  \n",
              "12068         0.0           0.0  train  \n",
              "\n",
              "[5 rows x 28 columns]"
            ]
          },
          "execution_count": 9,
          "metadata": {},
          "output_type": "execute_result"
        }
      ],
      "source": [
        "X_reorganized.sample(5)"
      ]
    },
    {
      "cell_type": "code",
      "execution_count": 10,
      "metadata": {
        "id": "b0szp2EOHF5t"
      },
      "outputs": [],
      "source": [
        "#X_reorganized[[\"id_annonce\", \"group\"]]"
      ]
    },
    {
      "cell_type": "code",
      "execution_count": null,
      "metadata": {
        "id": "f-pJ7aY1HF87"
      },
      "outputs": [],
      "source": []
    },
    {
      "cell_type": "code",
      "execution_count": 11,
      "metadata": {
        "id": "LBYLcEYD1pCN"
      },
      "outputs": [],
      "source": [
        "#PATH_IMAGES_DATA = \"./drive/MyDrive/real_estate_price_prediction_metadata_images_09042024.csv\"\n",
        "PATH_IMAGES_DATA = \"./real_estate_price_prediction_metadata_images_09042024.csv\""
      ]
    },
    {
      "cell_type": "code",
      "execution_count": 12,
      "metadata": {
        "id": "NI8n22tl1pIT"
      },
      "outputs": [],
      "source": [
        "data_img = pd.read_csv(PATH_IMAGES_DATA)"
      ]
    },
    {
      "cell_type": "code",
      "execution_count": 13,
      "metadata": {
        "id": "xIGNQYpcHx2a"
      },
      "outputs": [],
      "source": [
        "data_img_agg = data_img.groupby('id_annonce')['long_path_image'].apply(list).reset_index(name='images')"
      ]
    },
    {
      "cell_type": "code",
      "execution_count": 14,
      "metadata": {
        "id": "QKIvkALpHx5y"
      },
      "outputs": [],
      "source": [
        "data_img_groups = data_img_agg.merge(\n",
        "    X_reorganized[[\"id_annonce\", \"group\"]],\n",
        "    how='left',\n",
        "    on='id_annonce'\n",
        ")"
      ]
    },
    {
      "cell_type": "code",
      "execution_count": 15,
      "metadata": {
        "colab": {
          "base_uri": "https://localhost:8080/",
          "height": 359
        },
        "id": "O5DUrPL-Hx9-",
        "outputId": "6eeaf013-f315-4c4c-dd34-3b59b3e10768"
      },
      "outputs": [
        {
          "data": {
            "text/html": [
              "<div>\n",
              "<style scoped>\n",
              "    .dataframe tbody tr th:only-of-type {\n",
              "        vertical-align: middle;\n",
              "    }\n",
              "\n",
              "    .dataframe tbody tr th {\n",
              "        vertical-align: top;\n",
              "    }\n",
              "\n",
              "    .dataframe thead th {\n",
              "        text-align: right;\n",
              "    }\n",
              "</style>\n",
              "<table border=\"1\" class=\"dataframe\">\n",
              "  <thead>\n",
              "    <tr style=\"text-align: right;\">\n",
              "      <th></th>\n",
              "      <th>id_annonce</th>\n",
              "      <th>images</th>\n",
              "      <th>group</th>\n",
              "    </tr>\n",
              "  </thead>\n",
              "  <tbody>\n",
              "    <tr>\n",
              "      <th>20846</th>\n",
              "      <td>35884929</td>\n",
              "      <td>[C:\\Users\\MI30743\\github\\bourbaki_challenges-m...</td>\n",
              "      <td>train</td>\n",
              "    </tr>\n",
              "    <tr>\n",
              "      <th>33973</th>\n",
              "      <td>36048729</td>\n",
              "      <td>[C:\\Users\\MI30743\\github\\bourbaki_challenges-m...</td>\n",
              "      <td>train</td>\n",
              "    </tr>\n",
              "    <tr>\n",
              "      <th>29224</th>\n",
              "      <td>36020013</td>\n",
              "      <td>[C:\\Users\\MI30743\\github\\bourbaki_challenges-m...</td>\n",
              "      <td>train</td>\n",
              "    </tr>\n",
              "    <tr>\n",
              "      <th>11856</th>\n",
              "      <td>35827375</td>\n",
              "      <td>[C:\\Users\\MI30743\\github\\bourbaki_challenges-m...</td>\n",
              "      <td>train</td>\n",
              "    </tr>\n",
              "    <tr>\n",
              "      <th>7025</th>\n",
              "      <td>35787257</td>\n",
              "      <td>[C:\\Users\\MI30743\\github\\bourbaki_challenges-m...</td>\n",
              "      <td>train</td>\n",
              "    </tr>\n",
              "    <tr>\n",
              "      <th>5267</th>\n",
              "      <td>35775939</td>\n",
              "      <td>[C:\\Users\\MI30743\\github\\bourbaki_challenges-m...</td>\n",
              "      <td>val</td>\n",
              "    </tr>\n",
              "    <tr>\n",
              "      <th>26234</th>\n",
              "      <td>35996517</td>\n",
              "      <td>[C:\\Users\\MI30743\\github\\bourbaki_challenges-m...</td>\n",
              "      <td>test</td>\n",
              "    </tr>\n",
              "    <tr>\n",
              "      <th>3445</th>\n",
              "      <td>35758327</td>\n",
              "      <td>[C:\\Users\\MI30743\\github\\bourbaki_challenges-m...</td>\n",
              "      <td>test</td>\n",
              "    </tr>\n",
              "    <tr>\n",
              "      <th>7225</th>\n",
              "      <td>35791179</td>\n",
              "      <td>[C:\\Users\\MI30743\\github\\bourbaki_challenges-m...</td>\n",
              "      <td>train</td>\n",
              "    </tr>\n",
              "    <tr>\n",
              "      <th>28665</th>\n",
              "      <td>36016401</td>\n",
              "      <td>[C:\\Users\\MI30743\\github\\bourbaki_challenges-m...</td>\n",
              "      <td>train</td>\n",
              "    </tr>\n",
              "  </tbody>\n",
              "</table>\n",
              "</div>"
            ],
            "text/plain": [
              "       id_annonce                                             images  group\n",
              "20846    35884929  [C:\\Users\\MI30743\\github\\bourbaki_challenges-m...  train\n",
              "33973    36048729  [C:\\Users\\MI30743\\github\\bourbaki_challenges-m...  train\n",
              "29224    36020013  [C:\\Users\\MI30743\\github\\bourbaki_challenges-m...  train\n",
              "11856    35827375  [C:\\Users\\MI30743\\github\\bourbaki_challenges-m...  train\n",
              "7025     35787257  [C:\\Users\\MI30743\\github\\bourbaki_challenges-m...  train\n",
              "5267     35775939  [C:\\Users\\MI30743\\github\\bourbaki_challenges-m...    val\n",
              "26234    35996517  [C:\\Users\\MI30743\\github\\bourbaki_challenges-m...   test\n",
              "3445     35758327  [C:\\Users\\MI30743\\github\\bourbaki_challenges-m...   test\n",
              "7225     35791179  [C:\\Users\\MI30743\\github\\bourbaki_challenges-m...  train\n",
              "28665    36016401  [C:\\Users\\MI30743\\github\\bourbaki_challenges-m...  train"
            ]
          },
          "execution_count": 15,
          "metadata": {},
          "output_type": "execute_result"
        }
      ],
      "source": [
        "data_img_groups.sample(10)"
      ]
    },
    {
      "cell_type": "code",
      "execution_count": 16,
      "metadata": {
        "id": "t9qGRFnKWPbp"
      },
      "outputs": [],
      "source": [
        "# Define the image transformation\n",
        "preprocess = transforms.Compose([\n",
        "    transforms.Resize((224, 224)),\n",
        "    transforms.ToTensor(),\n",
        "    transforms.Normalize(\n",
        "        mean=[0.485, 0.456, 0.406],\n",
        "        std=[0.229, 0.224, 0.225]\n",
        "        ),\n",
        "])\n"
      ]
    },
    {
      "cell_type": "code",
      "execution_count": 17,
      "metadata": {
        "id": "-K0RgnK-M1NS"
      },
      "outputs": [
        {
          "name": "stderr",
          "output_type": "stream",
          "text": [
            "c:\\Users\\MI30743\\github\\bourbaki_challenges-main\\.venv\\Lib\\site-packages\\torchvision\\models\\_utils.py:208: UserWarning: The parameter 'pretrained' is deprecated since 0.13 and may be removed in the future, please use 'weights' instead.\n",
            "  warnings.warn(\n",
            "c:\\Users\\MI30743\\github\\bourbaki_challenges-main\\.venv\\Lib\\site-packages\\torchvision\\models\\_utils.py:223: UserWarning: Arguments other than a weight enum or `None` for 'weights' are deprecated since 0.13 and may be removed in the future. The current behavior is equivalent to passing `weights=ResNet152_Weights.IMAGENET1K_V1`. You can also use `weights=ResNet152_Weights.DEFAULT` to get the most up-to-date weights.\n",
            "  warnings.warn(msg)\n"
          ]
        }
      ],
      "source": [
        "mapeo = {}\n",
        "model_ = models.resnet152(pretrained=True)\n",
        "model_layers = list(model_.children())[:-1]\n",
        "model_feature_extract = torch.nn.Sequential(*model_layers)\n",
        "\n",
        "def get_model_embedding(model_feature_extract, img_tensor):\n",
        "    with torch.no_grad():\n",
        "          # Get the image features from the ResNet-152 model\n",
        "          img_features = model_feature_extract(img_tensor)\n",
        "    return img_features\n",
        "\n",
        "# for index in range(data_img_groups.shape[0]):\n",
        "\n",
        "#   images_path = data_img_groups.iloc[index][\"images\"]\n",
        "\n",
        "#   images_emmbeded = []\n",
        "\n",
        "#   for path in images_path:\n",
        "#     image = Image.open(path).convert(\"RGB\")\n",
        "\n",
        "#     image = preprocess(image).unsqueeze(0)\n",
        "\n",
        "#     img_embedding = get_model_embedding(model_feature_extract, image)\n",
        "#     images_emmbeded.append(img_embedding.flatten())\n",
        "\n",
        "#   images_embbeding = torch.stack(images_emmbeded).mean(dim=0)\n",
        "\n",
        "#   mapeo[index] = images_embbeding\n"
      ]
    },
    {
      "cell_type": "code",
      "execution_count": 18,
      "metadata": {},
      "outputs": [],
      "source": [
        "#data_img[\"long_path_image\"]"
      ]
    },
    {
      "cell_type": "code",
      "execution_count": 19,
      "metadata": {},
      "outputs": [],
      "source": [
        "import multiprocessing\n",
        "\n",
        "\n",
        "def get_raw_embbeding(index):\n",
        "    def get_model_embedding(model_feature_extract, img_tensor):\n",
        "        with torch.no_grad():\n",
        "            # Get the image features from the ResNet-152 model\n",
        "            img_features = model_feature_extract(img_tensor)\n",
        "        return img_features\n",
        "\n",
        "    path = data_img.iloc[index][\"long_path_image\"]\n",
        "\n",
        "    images_emmbeded = []\n",
        "\n",
        "    image = Image.open(path).convert(\"RGB\")\n",
        "\n",
        "    image = preprocess(image).unsqueeze(0)\n",
        "\n",
        "    img_embedding = get_model_embedding(model_feature_extract, image)\n",
        "\n",
        "    return img_embedding.flatten()\n",
        "\n",
        "def get_avg_embbeding(index):\n",
        "    def get_model_embedding(model_feature_extract, img_tensor):\n",
        "        with torch.no_grad():\n",
        "            # Get the image features from the ResNet-152 model\n",
        "            img_features = model_feature_extract(img_tensor)\n",
        "        return img_features\n",
        "\n",
        "    images_path = data_img_groups.iloc[index][\"images\"]\n",
        "\n",
        "    images_emmbeded = []\n",
        "\n",
        "    for path in images_path:\n",
        "        image = Image.open(path).convert(\"RGB\")\n",
        "\n",
        "        image = preprocess(image).unsqueeze(0)\n",
        "\n",
        "        img_embedding = get_model_embedding(model_feature_extract, image)\n",
        "        images_emmbeded.append(img_embedding.flatten())\n",
        "\n",
        "    images_embbeding = torch.stack(images_emmbeded).mean(dim=0)\n",
        "\n",
        "    return images_embbeding"
      ]
    },
    {
      "cell_type": "code",
      "execution_count": 20,
      "metadata": {},
      "outputs": [
        {
          "data": {
            "text/plain": [
              "(190699, 5)"
            ]
          },
          "execution_count": 20,
          "metadata": {},
          "output_type": "execute_result"
        }
      ],
      "source": [
        "data_img.shape"
      ]
    },
    {
      "cell_type": "code",
      "execution_count": null,
      "metadata": {},
      "outputs": [],
      "source": []
    },
    {
      "cell_type": "code",
      "execution_count": 21,
      "metadata": {},
      "outputs": [],
      "source": [
        "#%%time\n",
        "#out_ = map(get_raw_embbeding,list(range(100)))\n",
        "#list(out_)"
      ]
    },
    {
      "cell_type": "code",
      "execution_count": null,
      "metadata": {},
      "outputs": [],
      "source": []
    },
    {
      "cell_type": "code",
      "execution_count": 22,
      "metadata": {},
      "outputs": [],
      "source": [
        "#%%time\n",
        "#out_ = map(get_avg_embbeding, list(range(100)))\n",
        "#list(out_)\n",
        "\n",
        "\n"
      ]
    },
    {
      "cell_type": "code",
      "execution_count": 23,
      "metadata": {},
      "outputs": [],
      "source": [
        "#data_img_groups.shape"
      ]
    },
    {
      "cell_type": "code",
      "execution_count": 24,
      "metadata": {},
      "outputs": [],
      "source": [
        "#pool_size = multiprocessing.cpu_count()\n",
        "\n",
        "#pool_size"
      ]
    },
    {
      "cell_type": "code",
      "execution_count": 25,
      "metadata": {},
      "outputs": [],
      "source": [
        "#%%time \n",
        "#results = [get_avg_embbeding(i) for i in range(100)]\n"
      ]
    },
    {
      "cell_type": "code",
      "execution_count": 26,
      "metadata": {},
      "outputs": [],
      "source": [
        "#get_avg_embbeding(2)"
      ]
    },
    {
      "cell_type": "code",
      "execution_count": 27,
      "metadata": {},
      "outputs": [],
      "source": [
        "#%%time\n",
        "#def parallarel_procesing(numbers, pool_size):\n",
        "#    pool = multiprocessing.Pool(pool_size)\n",
        "#    results = pool.map(get_avg_embbeding, numbers)\n",
        "\n",
        "#    return results\n",
        "\n",
        "#index_images = range(2)#range(data_img_groups.shape[0])\n",
        "\n",
        "#results = parallarel_procesing(index_images, pool_size)\n"
      ]
    },
    {
      "cell_type": "code",
      "execution_count": 28,
      "metadata": {},
      "outputs": [],
      "source": [
        "#data_img_groups.shape[0]"
      ]
    },
    {
      "cell_type": "code",
      "execution_count": 29,
      "metadata": {},
      "outputs": [],
      "source": [
        "#import json \n",
        "\n",
        "#mapeo_ = dict(zip(list(data_img_groups[\"id_annonce\"].values), [ list(x.numpy()) for x in results]))\n",
        "\n",
        "#with open(\"average_embbedings_images.json\", \"w\") as outfile: \n",
        "#    json.dump(mapeo_, outfile)"
      ]
    },
    {
      "cell_type": "code",
      "execution_count": 30,
      "metadata": {
        "id": "M0JZdPD-9J8G"
      },
      "outputs": [],
      "source": [
        "class CustomDataset(Dataset):\n",
        "\n",
        "    def __init__(\n",
        "        self,\n",
        "        data_features,\n",
        "        data_target,\n",
        "        data_img_groups,\n",
        "        group='train',\n",
        "        transform=None\n",
        "        ) -> None:\n",
        "\n",
        "        self.group = group\n",
        "\n",
        "        self.data_features = data_features.query(\n",
        "            f\"group == '{self.group}'\"\n",
        "            )\n",
        "\n",
        "        self.data_target = data_target.query(\n",
        "            f\"group == '{self.group}'\"\n",
        "            )\n",
        "\n",
        "        self.data_img_groups = data_img_groups.query(\n",
        "            f\"group == '{self.group}'\"\n",
        "            )\n",
        "\n",
        "        self.transform = transform\n",
        "\n",
        "        self.model = models.resnet152(pretrained=True)\n",
        "        self.model_layers = list(self.model.children())[:-1]\n",
        "        self.model_feature_extract = torch.nn.Sequential(*self.model_layers)\n",
        "\n",
        "        self.set_model_eval()\n",
        "\n",
        "    def __len__(self):\n",
        "        return len(self.data_features)\n",
        "\n",
        "    def set_model_eval(self):\n",
        "      \"\"\"\n",
        "      Set to evaluation model.\n",
        "      \"\"\"\n",
        "      return self.model.eval()\n",
        "\n",
        "\n",
        "    def get_model_embedding(self, img_tensor):\n",
        "\n",
        "      with torch.no_grad():\n",
        "          # Get the image features from the ResNet-152 model\n",
        "          img_features = self.model_feature_extract(img_tensor)\n",
        "\n",
        "      return img_features\n",
        "\n",
        "    def load_image(self, path) -> Image.Image:\n",
        "\n",
        "        return Image.open(path).convert(\"RGB\")\n",
        "\n",
        "    def __getitem__(self, index):\n",
        "\n",
        "        images_path = self.data_img_groups.iloc[index][\"images\"]\n",
        "\n",
        "        def _embbeding_images(path):\n",
        "           \n",
        "           image = self.load_image(path)\n",
        "           \n",
        "           if self.transform:\n",
        "              image = self.transform(image).unsqueeze(0)\n",
        "\n",
        "           img_embedding = self.get_model_embedding(image)     \n",
        "           \n",
        "           return img_embedding.flatten()\n",
        "\n",
        "        images_emmbeded = list(map(_embbeding_images, images_path))\n",
        "\n",
        "        # for path in images_path:\n",
        "        #   image = self.load_image(path)\n",
        "\n",
        "        #   if self.transform:\n",
        "        #     image = self.transform(image).unsqueeze(0)\n",
        "\n",
        "        #     img_embedding = self.get_model_embedding(image)\n",
        "        #     images_emmbeded.append(img_embedding.flatten())\n",
        "\n",
        "        images_embbeding = torch.stack(images_emmbeded).mean(dim=0)\n",
        "\n",
        "        features = self.data_features.drop(\n",
        "            columns=[\"id_annonce\",\"group\"]\n",
        "            ).iloc[index,:]\n",
        "\n",
        "        #features = torch.from_numpy(features).float()\n",
        "\n",
        "        target = self.data_target[[\"price_scaled\"]].values[index]\n",
        "\n",
        "        avg_embbeding = images_embbeding\n",
        "        tab_features = torch.tensor(features.values, dtype=torch.float32)\n",
        "        target = torch.tensor(target, dtype=torch.float32)\n",
        "\n",
        "        return avg_embbeding, tab_features, target"
      ]
    },
    {
      "cell_type": "code",
      "execution_count": 31,
      "metadata": {
        "colab": {
          "base_uri": "https://localhost:8080/"
        },
        "id": "1TDDgkOQOkLV",
        "outputId": "e4005885-dd0c-4462-fbe3-00cf20f92521"
      },
      "outputs": [
        {
          "name": "stderr",
          "output_type": "stream",
          "text": [
            "c:\\Users\\MI30743\\github\\bourbaki_challenges-main\\.venv\\Lib\\site-packages\\torchvision\\models\\_utils.py:208: UserWarning: The parameter 'pretrained' is deprecated since 0.13 and may be removed in the future, please use 'weights' instead.\n",
            "  warnings.warn(\n",
            "c:\\Users\\MI30743\\github\\bourbaki_challenges-main\\.venv\\Lib\\site-packages\\torchvision\\models\\_utils.py:223: UserWarning: Arguments other than a weight enum or `None` for 'weights' are deprecated since 0.13 and may be removed in the future. The current behavior is equivalent to passing `weights=ResNet152_Weights.IMAGENET1K_V1`. You can also use `weights=ResNet152_Weights.DEFAULT` to get the most up-to-date weights.\n",
            "  warnings.warn(msg)\n",
            "c:\\Users\\MI30743\\github\\bourbaki_challenges-main\\.venv\\Lib\\site-packages\\torchvision\\models\\_utils.py:208: UserWarning: The parameter 'pretrained' is deprecated since 0.13 and may be removed in the future, please use 'weights' instead.\n",
            "  warnings.warn(\n",
            "c:\\Users\\MI30743\\github\\bourbaki_challenges-main\\.venv\\Lib\\site-packages\\torchvision\\models\\_utils.py:223: UserWarning: Arguments other than a weight enum or `None` for 'weights' are deprecated since 0.13 and may be removed in the future. The current behavior is equivalent to passing `weights=ResNet152_Weights.IMAGENET1K_V1`. You can also use `weights=ResNet152_Weights.DEFAULT` to get the most up-to-date weights.\n",
            "  warnings.warn(msg)\n",
            "c:\\Users\\MI30743\\github\\bourbaki_challenges-main\\.venv\\Lib\\site-packages\\torchvision\\models\\_utils.py:208: UserWarning: The parameter 'pretrained' is deprecated since 0.13 and may be removed in the future, please use 'weights' instead.\n",
            "  warnings.warn(\n",
            "c:\\Users\\MI30743\\github\\bourbaki_challenges-main\\.venv\\Lib\\site-packages\\torchvision\\models\\_utils.py:223: UserWarning: Arguments other than a weight enum or `None` for 'weights' are deprecated since 0.13 and may be removed in the future. The current behavior is equivalent to passing `weights=ResNet152_Weights.IMAGENET1K_V1`. You can also use `weights=ResNet152_Weights.DEFAULT` to get the most up-to-date weights.\n",
            "  warnings.warn(msg)\n"
          ]
        }
      ],
      "source": [
        "train_dataset = CustomDataset(\n",
        "        data_features=X_reorganized,\n",
        "        data_target=y_reorganized,\n",
        "        data_img_groups=data_img_groups,\n",
        "        group='train',\n",
        "        transform=preprocess\n",
        "    )\n",
        "\n",
        "val_dataset = CustomDataset(\n",
        "        data_features=X_reorganized,\n",
        "        data_target=y_reorganized,\n",
        "        data_img_groups=data_img_groups,\n",
        "        group='val',\n",
        "        transform=preprocess\n",
        ")\n",
        "\n",
        "test_dataset = CustomDataset(\n",
        "        data_features=X_reorganized,\n",
        "        data_target=y_reorganized,\n",
        "        data_img_groups=data_img_groups,\n",
        "        group='test',\n",
        "        transform=preprocess\n",
        ")"
      ]
    },
    {
      "cell_type": "code",
      "execution_count": 32,
      "metadata": {
        "id": "y6itsJqnYbAI"
      },
      "outputs": [],
      "source": [
        "BATCH_SIZE = 512"
      ]
    },
    {
      "cell_type": "code",
      "execution_count": 33,
      "metadata": {
        "id": "Asqxg6x4We54"
      },
      "outputs": [],
      "source": [
        "train_loader = DataLoader(train_dataset, batch_size=BATCH_SIZE, shuffle=True)\n",
        "val_loader = DataLoader(val_dataset, batch_size=BATCH_SIZE, shuffle=True)\n",
        "test_loader = DataLoader(test_dataset, batch_size=BATCH_SIZE, shuffle=False)"
      ]
    },
    {
      "cell_type": "code",
      "execution_count": 34,
      "metadata": {
        "id": "scESiD9JY8P3"
      },
      "outputs": [],
      "source": [
        "# Define the neural network\n",
        "class PricePredictionModel(nn.Module):\n",
        "    def __init__(self, embedding_size=2048, tabular_input_size=26):  # Adjust tabular_input_size based on your actual features\n",
        "        super(PricePredictionModel, self).__init__()\n",
        "        self.fc1 = nn.Linear(embedding_size+tabular_input_size, 512)  # Output a single value for price prediction\n",
        "        self.fc2 = nn.Linear(512, 1)\n",
        "        self.DO = nn.Dropout(p=0.4)\n",
        "\n",
        "    def forward(self, image_inputs, tabular_inputs):\n",
        "        combined_embedding = torch.cat((image_inputs, tabular_inputs), dim=1)\n",
        "        output = self.DO(torch.relu(self.fc1(combined_embedding)))\n",
        "        output = torch.relu(self.fc2(output))\n",
        "        return output.squeeze(1)"
      ]
    },
    {
      "cell_type": "code",
      "execution_count": 35,
      "metadata": {
        "id": "BKotqzgTZixX"
      },
      "outputs": [],
      "source": [
        "if torch.cuda.is_available():\n",
        "    device = \"cuda:0\"\n",
        "else:\n",
        "    device = \"cpu\""
      ]
    },
    {
      "cell_type": "code",
      "execution_count": 36,
      "metadata": {
        "colab": {
          "base_uri": "https://localhost:8080/",
          "height": 35
        },
        "id": "tGCCQowaZi2R",
        "outputId": "934c2d8f-5d3a-4c43-c75a-a7cba3959c89"
      },
      "outputs": [
        {
          "data": {
            "text/plain": [
              "'cuda:0'"
            ]
          },
          "execution_count": 36,
          "metadata": {},
          "output_type": "execute_result"
        }
      ],
      "source": [
        "device"
      ]
    },
    {
      "cell_type": "code",
      "execution_count": 37,
      "metadata": {
        "id": "YGtTd4WRZi7O"
      },
      "outputs": [],
      "source": [
        "#model = MultiModal(device=device)"
      ]
    },
    {
      "cell_type": "code",
      "execution_count": 38,
      "metadata": {
        "id": "118krSqaZFRQ"
      },
      "outputs": [],
      "source": [
        "# Initialize the model, loss, and optimizer\n",
        "model = PricePredictionModel().to(device)"
      ]
    },
    {
      "cell_type": "code",
      "execution_count": 39,
      "metadata": {
        "id": "pD8LtwV5ZjFU"
      },
      "outputs": [],
      "source": [
        "class EarlyStopping:\n",
        "    def __init__(self, patience, verbose=False, delta=0, path=\"checkpoint.pt\"):\n",
        "        self.patience = patience\n",
        "        self.verbose = verbose\n",
        "        self.counter = 0\n",
        "        self.best_score = None\n",
        "        self.early_stop = False\n",
        "        self.val_loss_min = np.Inf\n",
        "        self.delta = delta\n",
        "        self.path = path\n",
        "\n",
        "    def __call__(self, val_loss, model):\n",
        "        score = -val_loss\n",
        "        if self.best_score is None:\n",
        "            self.best_score = score\n",
        "            self.save_checkpoint(val_loss, model)\n",
        "        elif score < self.best_score + self.delta:\n",
        "            self.counter += 1\n",
        "            if self.verbose:\n",
        "                print(f\"EarlyStopping counter: {self.counter} out of {self.patience}\")\n",
        "            if self.counter >= self.patience:\n",
        "                self.early_stop = True\n",
        "        else:\n",
        "            self.best_score = score\n",
        "            self.save_checkpoint(val_loss, model)\n",
        "        return self.early_stop\n",
        "\n",
        "    def save_checkpoint(self, val_loss, model):\n",
        "        \"\"\"Saves model when validation loss decrease.\"\"\"\n",
        "        if self.verbose:\n",
        "            print(\n",
        "                f\"Validation Loss decreased ({self.val_loss_min:.6f} --> {val_loss:.6f}). Saving model to {self.path}\"\n",
        "            )\n",
        "        torch.save(model.state_dict(), self.path)\n",
        "        self.val_loss_min = val_loss\n",
        "\n",
        "    def load_checkpoint(self, model):\n",
        "        \"\"\"Loads the best model weights from the saved checkpoint.\"\"\"\n",
        "        model.load_state_dict(torch.load(self.path))"
      ]
    },
    {
      "cell_type": "code",
      "execution_count": null,
      "metadata": {
        "id": "W32QV5DNBwsL"
      },
      "outputs": [],
      "source": []
    },
    {
      "cell_type": "code",
      "execution_count": 40,
      "metadata": {
        "id": "mpb3tDPdZjKH"
      },
      "outputs": [],
      "source": [
        "# Tunners\n",
        "LR = 0.01\n",
        "EPOCHS = 1"
      ]
    },
    {
      "cell_type": "code",
      "execution_count": 41,
      "metadata": {
        "id": "_i0YzX7eZjP6"
      },
      "outputs": [],
      "source": [
        "optimizer = optim.Adam(model.parameters(), lr=LR, amsgrad=True, weight_decay=LR * 0.1)\n",
        "\n",
        "criterion = nn.L1Loss().to(device) #nn.L1Loss().to(device)\n",
        "\n",
        "early_stopping = EarlyStopping(patience=int(EPOCHS * 0.5), verbose=True)"
      ]
    },
    {
      "cell_type": "code",
      "execution_count": 42,
      "metadata": {
        "id": "xJzzvICtZjUf"
      },
      "outputs": [],
      "source": [
        "def train_eval(model, loader, optimizer, loss_func, is_training):\n",
        "    loss_list = []\n",
        "    stop = False\n",
        "    model.train() if is_training else model.eval()\n",
        "\n",
        "    with torch.set_grad_enabled(is_training):  # Enable gradients only in training\n",
        "        for batch_idx, (avg_embbeding, tab_features, target) in tqdm(\n",
        "            enumerate(loader),\n",
        "            desc=\"Epoch_Train\" if is_training else \"Epoch_Val\",\n",
        "            total=len(loader),\n",
        "        ):\n",
        "            avg_embbeding, tab_features, target = avg_embbeding.to(device), tab_features.to(device), target.to(device)\n",
        "\n",
        "            if is_training:\n",
        "                optimizer.zero_grad()  # Reset gradients\n",
        "            output = model(avg_embbeding, tab_features)\n",
        "            loss = loss_func(output, target.squeeze(1))\n",
        "\n",
        "            if is_training:\n",
        "                loss.backward()  # Compute gradients\n",
        "                optimizer.step()  # Update weights\n",
        "\n",
        "            loss_list.append(loss.item())\n",
        "\n",
        "    if not is_training:\n",
        "        stop = early_stopping(\n",
        "            (sum(loss_list) / len(loss_list)), model\n",
        "        )  # Early stopping decision\n",
        "\n",
        "    return loss_list, stop"
      ]
    },
    {
      "cell_type": "code",
      "execution_count": 43,
      "metadata": {
        "id": "O5lfUWvLZjZh"
      },
      "outputs": [],
      "source": [
        "def calc_acc_loss(total_loss, loss):\n",
        "    total_loss.append(sum(loss) / len(loss))\n",
        "    return total_loss"
      ]
    },
    {
      "cell_type": "code",
      "execution_count": 44,
      "metadata": {
        "id": "tFF5y0uDZjgA"
      },
      "outputs": [],
      "source": [
        "# Lists\n",
        "total_loss_train = []\n",
        "total_loss_val = []"
      ]
    },
    {
      "cell_type": "code",
      "execution_count": 45,
      "metadata": {
        "id": "EO-nMUADGtDP"
      },
      "outputs": [],
      "source": [
        "torch.cuda.empty_cache()\n",
        "try:\n",
        "  torch.cuda.reset_peak_memory_stats()\n",
        "except:\n",
        "  pass"
      ]
    },
    {
      "cell_type": "code",
      "execution_count": 46,
      "metadata": {
        "colab": {
          "base_uri": "https://localhost:8080/",
          "height": 49,
          "referenced_widgets": [
            "cc3f4de78aab4d2aa678320a7c79e687",
            "137e83a11d934a1ca1ea22d3c00f48db",
            "ba640f217aed44659caf4f7dcb30226c",
            "e6d15e422afb48b1bef40884efee0781",
            "eb0eb9def29c4c6ca88bd9234ed61ac7",
            "892f0a5940e24d7c9f9d68ecb04decfb",
            "63e7b9c816b64106a883f99b4fdc051a",
            "b03de206aab543628464de2a5a7643f6",
            "8a95298173974a2984a32ef622ade051",
            "f7f569be39294134952660ccf99e8cf9",
            "dee1a6237f6947dd8a42d90974b966bc"
          ]
        },
        "id": "ice8f7K4GtHW",
        "outputId": "b5fca034-dccf-43a5-b8f4-7b0595ead390"
      },
      "outputs": [
        {
          "data": {
            "application/vnd.jupyter.widget-view+json": {
              "model_id": "258253015b284a42be7733df207b525c",
              "version_major": 2,
              "version_minor": 0
            },
            "text/plain": [
              "Epoch_Train:   0%|          | 0/47 [00:00<?, ?it/s]"
            ]
          },
          "metadata": {},
          "output_type": "display_data"
        },
        {
          "data": {
            "application/vnd.jupyter.widget-view+json": {
              "model_id": "0b5a7e336d1b494dbca35f65120bd6d6",
              "version_major": 2,
              "version_minor": 0
            },
            "text/plain": [
              "Epoch_Val:   0%|          | 0/12 [00:00<?, ?it/s]"
            ]
          },
          "metadata": {},
          "output_type": "display_data"
        },
        {
          "name": "stdout",
          "output_type": "stream",
          "text": [
            "Validation Loss decreased (inf --> 0.138548). Saving model to checkpoint.pt\n",
            "Epoch 1/1 - Train Loss: 0.1574, Val Loss: 0.1385\n",
            "CPU times: total: 1d 9h 54min 8s\n",
            "Wall time: 7h 35min 55s\n"
          ]
        }
      ],
      "source": [
        "%%time\n",
        "# Training and Evaluation loop\n",
        "for epoch in range(EPOCHS):\n",
        "    # Train Iteration\n",
        "    loss_train, _ = train_eval(\n",
        "        model, train_loader, optimizer, criterion, is_training=True\n",
        "    )\n",
        "\n",
        "    # Val Iteration\n",
        "    loss_val, stop = train_eval(\n",
        "        model, val_loader, optimizer, criterion, is_training=False\n",
        "    )\n",
        "\n",
        "    # Calculate and record loss & accuracy for training and validation\n",
        "    total_loss_train = calc_acc_loss(\n",
        "        total_loss_train,\n",
        "        loss_train\n",
        "    )\n",
        "\n",
        "    # Calculate Loss and Accuracy\n",
        "    total_loss_val = calc_acc_loss(\n",
        "        total_loss_val,\n",
        "        loss_val\n",
        "    )\n",
        "\n",
        "    # Print metrics per epoch\n",
        "    print(\n",
        "        f\"Epoch {epoch+1}/{EPOCHS} - Train Loss: {total_loss_train[-1]:.4f}, Val Loss: {total_loss_val[-1]:.4f}\"\n",
        "    )\n",
        "\n",
        "    if stop:\n",
        "        print(\"Early Stopping\")\n",
        "        break"
      ]
    },
    {
      "cell_type": "markdown",
      "metadata": {
        "id": "siEm14ENrNaw"
      },
      "source": [
        "## Testing"
      ]
    },
    {
      "cell_type": "code",
      "execution_count": 47,
      "metadata": {
        "id": "LkW1txhMrLms"
      },
      "outputs": [],
      "source": [
        "try:\n",
        "  torch.cuda.empty_cache()\n",
        "  torch.cuda.reset_peak_memory_stats()\n",
        "except:\n",
        "  pass"
      ]
    },
    {
      "cell_type": "code",
      "execution_count": 48,
      "metadata": {
        "id": "Kk8f_QSGrLqm"
      },
      "outputs": [
        {
          "data": {
            "text/plain": [
              "PricePredictionModel(\n",
              "  (fc1): Linear(in_features=2074, out_features=512, bias=True)\n",
              "  (fc2): Linear(in_features=512, out_features=1, bias=True)\n",
              "  (DO): Dropout(p=0.4, inplace=False)\n",
              ")"
            ]
          },
          "execution_count": 48,
          "metadata": {},
          "output_type": "execute_result"
        }
      ],
      "source": [
        "model_pred = PricePredictionModel().to(device) #MultiModal(device=device)\n",
        "model_pred.load_state_dict(torch.load(\"checkpoint.pt\"))\n",
        "model_pred.to(device)"
      ]
    },
    {
      "cell_type": "code",
      "execution_count": 49,
      "metadata": {
        "id": "WMZRMt2UZjnJ"
      },
      "outputs": [],
      "source": [
        "def test(model, loader):\n",
        "    model.eval()\n",
        "    total_loss_test = []\n",
        "    outputs_test = []\n",
        "    target_test = []\n",
        "\n",
        "    pred = torch.Tensor().to(device)\n",
        "\n",
        "    with torch.no_grad():\n",
        "        for batch_idx, (avg_embbeding, tab_features, target) in tqdm(\n",
        "            enumerate(loader), desc=\"Test Epoch\", total=len(loader)\n",
        "        ):\n",
        "            avg_embbeding, tab_features, target = avg_embbeding.to(device), tab_features.to(device), target.to(device)\n",
        "            output = model(avg_embbeding, tab_features)\n",
        "\n",
        "            outputs_test.append(output)\n",
        "            target_test.append(target)\n",
        "\n",
        "            loss = criterion(output, target.squeeze(1))\n",
        "            total_loss_test.append(loss.item())\n",
        "\n",
        "        outputs_test = torch.concat(outputs_test, dim=0).cpu().numpy()\n",
        "        target_test = torch.concat(target_test, dim=0).cpu().numpy()\n",
        "\n",
        "        return total_loss_test, outputs_test, target_test.squeeze()"
      ]
    },
    {
      "cell_type": "code",
      "execution_count": 50,
      "metadata": {
        "id": "PrV_Ty7gZjr-"
      },
      "outputs": [
        {
          "data": {
            "application/vnd.jupyter.widget-view+json": {
              "model_id": "bc451b8a13824c259838204fb0555952",
              "version_major": 2,
              "version_minor": 0
            },
            "text/plain": [
              "Test Epoch:   0%|          | 0/15 [00:00<?, ?it/s]"
            ]
          },
          "metadata": {},
          "output_type": "display_data"
        }
      ],
      "source": [
        "total_loss_test, outputs_test, target_test = test(model_pred, test_loader)"
      ]
    },
    {
      "cell_type": "code",
      "execution_count": 51,
      "metadata": {
        "id": "LUUP4n-dZj4J"
      },
      "outputs": [
        {
          "name": "stdout",
          "output_type": "stream",
          "text": [
            "Loss Test: 0.143\n"
          ]
        }
      ],
      "source": [
        "print(f\"Loss Test: {(sum(total_loss_test) / len(total_loss_test)):.3f}\")"
      ]
    },
    {
      "cell_type": "code",
      "execution_count": 55,
      "metadata": {
        "id": "T3_HgriYZkDo"
      },
      "outputs": [
        {
          "name": "stdout",
          "output_type": "stream",
          "text": [
            "RMSE: 0.19803348\n",
            "median_absolute_error: 0.10350907\n"
          ]
        }
      ],
      "source": [
        "from sklearn.metrics import root_mean_squared_error, median_absolute_error\n",
        "\n",
        "print(\"RMSE:\", root_mean_squared_error(outputs_test, target_test))\n",
        "print(\"median_absolute_error:\", median_absolute_error(outputs_test, target_test))"
      ]
    },
    {
      "cell_type": "code",
      "execution_count": 63,
      "metadata": {},
      "outputs": [
        {
          "data": {
            "text/plain": [
              "<Axes: >"
            ]
          },
          "execution_count": 63,
          "metadata": {},
          "output_type": "execute_result"
        },
        {
          "data": {
            "image/png": "[encoded data removed]",
            "text/plain": [
              "<Figure size 640x480 with 1 Axes>"
            ]
          },
          "metadata": {},
          "output_type": "display_data"
        }
      ],
      "source": [
        "import seaborn as sns\n",
        "\n",
        "\n",
        "sns.scatterplot(\n",
        "    x = target_test,\n",
        "    y = outputs_test.squeeze(),\n",
        "    hue=target_test\n",
        "    )"
      ]
    }
  ],
  "metadata": {
    "accelerator": "GPU",
    "colab": {
      "gpuType": "T4",
      "provenance": []
    },
    "kernelspec": {
      "display_name": "Python 3",
      "name": "python3"
    },
    "language_info": {
      "codemirror_mode": {
        "name": "ipython",
        "version": 3
      },
      "file_extension": ".py",
      "mimetype": "text/x-python",
      "name": "python",
      "nbconvert_exporter": "python",
      "pygments_lexer": "ipython3",
      "version": "3.12.0"
    },
    "widgets": {
      "application/vnd.jupyter.widget-state+json": {
        "137e83a11d934a1ca1ea22d3c00f48db": {
          "model_module": "@jupyter-widgets/controls",
          "model_module_version": "1.5.0",
          "model_name": "HTMLModel",
          "state": {
            "_dom_classes": [],
            "_model_module": "@jupyter-widgets/controls",
            "_model_module_version": "1.5.0",
            "_model_name": "HTMLModel",
            "_view_count": null,
            "_view_module": "@jupyter-widgets/controls",
            "_view_module_version": "1.5.0",
            "_view_name": "HTMLView",
            "description": "",
            "description_tooltip": null,
            "layout": "IPY_MODEL_892f0a5940e24d7c9f9d68ecb04decfb",
            "placeholder": "​",
            "style": "IPY_MODEL_63e7b9c816b64106a883f99b4fdc051a",
            "value": "Epoch_Train:   0%"
          }
        },
        "63e7b9c816b64106a883f99b4fdc051a": {
          "model_module": "@jupyter-widgets/controls",
          "model_module_version": "1.5.0",
          "model_name": "DescriptionStyleModel",
          "state": {
            "_model_module": "@jupyter-widgets/controls",
            "_model_module_version": "1.5.0",
            "_model_name": "DescriptionStyleModel",
            "_view_count": null,
            "_view_module": "@jupyter-widgets/base",
            "_view_module_version": "1.2.0",
            "_view_name": "StyleView",
            "description_width": ""
          }
        },
        "892f0a5940e24d7c9f9d68ecb04decfb": {
          "model_module": "@jupyter-widgets/base",
          "model_module_version": "1.2.0",
          "model_name": "LayoutModel",
          "state": {
            "_model_module": "@jupyter-widgets/base",
            "_model_module_version": "1.2.0",
            "_model_name": "LayoutModel",
            "_view_count": null,
            "_view_module": "@jupyter-widgets/base",
            "_view_module_version": "1.2.0",
            "_view_name": "LayoutView",
            "align_content": null,
            "align_items": null,
            "align_self": null,
            "border": null,
            "bottom": null,
            "display": null,
            "flex": null,
            "flex_flow": null,
            "grid_area": null,
            "grid_auto_columns": null,
            "grid_auto_flow": null,
            "grid_auto_rows": null,
            "grid_column": null,
            "grid_gap": null,
            "grid_row": null,
            "grid_template_areas": null,
            "grid_template_columns": null,
            "grid_template_rows": null,
            "height": null,
            "justify_content": null,
            "justify_items": null,
            "left": null,
            "margin": null,
            "max_height": null,
            "max_width": null,
            "min_height": null,
            "min_width": null,
            "object_fit": null,
            "object_position": null,
            "order": null,
            "overflow": null,
            "overflow_x": null,
            "overflow_y": null,
            "padding": null,
            "right": null,
            "top": null,
            "visibility": null,
            "width": null
          }
        },
        "8a95298173974a2984a32ef622ade051": {
          "model_module": "@jupyter-widgets/controls",
          "model_module_version": "1.5.0",
          "model_name": "ProgressStyleModel",
          "state": {
            "_model_module": "@jupyter-widgets/controls",
            "_model_module_version": "1.5.0",
            "_model_name": "ProgressStyleModel",
            "_view_count": null,
            "_view_module": "@jupyter-widgets/base",
            "_view_module_version": "1.2.0",
            "_view_name": "StyleView",
            "bar_color": null,
            "description_width": ""
          }
        },
        "b03de206aab543628464de2a5a7643f6": {
          "model_module": "@jupyter-widgets/base",
          "model_module_version": "1.2.0",
          "model_name": "LayoutModel",
          "state": {
            "_model_module": "@jupyter-widgets/base",
            "_model_module_version": "1.2.0",
            "_model_name": "LayoutModel",
            "_view_count": null,
            "_view_module": "@jupyter-widgets/base",
            "_view_module_version": "1.2.0",
            "_view_name": "LayoutView",
            "align_content": null,
            "align_items": null,
            "align_self": null,
            "border": null,
            "bottom": null,
            "display": null,
            "flex": null,
            "flex_flow": null,
            "grid_area": null,
            "grid_auto_columns": null,
            "grid_auto_flow": null,
            "grid_auto_rows": null,
            "grid_column": null,
            "grid_gap": null,
            "grid_row": null,
            "grid_template_areas": null,
            "grid_template_columns": null,
            "grid_template_rows": null,
            "height": null,
            "justify_content": null,
            "justify_items": null,
            "left": null,
            "margin": null,
            "max_height": null,
            "max_width": null,
            "min_height": null,
            "min_width": null,
            "object_fit": null,
            "object_position": null,
            "order": null,
            "overflow": null,
            "overflow_x": null,
            "overflow_y": null,
            "padding": null,
            "right": null,
            "top": null,
            "visibility": null,
            "width": null
          }
        },
        "ba640f217aed44659caf4f7dcb30226c": {
          "model_module": "@jupyter-widgets/controls",
          "model_module_version": "1.5.0",
          "model_name": "FloatProgressModel",
          "state": {
            "_dom_classes": [],
            "_model_module": "@jupyter-widgets/controls",
            "_model_module_version": "1.5.0",
            "_model_name": "FloatProgressModel",
            "_view_count": null,
            "_view_module": "@jupyter-widgets/controls",
            "_view_module_version": "1.5.0",
            "_view_name": "ProgressView",
            "bar_style": "",
            "description": "",
            "description_tooltip": null,
            "layout": "IPY_MODEL_b03de206aab543628464de2a5a7643f6",
            "max": 24,
            "min": 0,
            "orientation": "horizontal",
            "style": "IPY_MODEL_8a95298173974a2984a32ef622ade051",
            "value": 0
          }
        },
        "cc3f4de78aab4d2aa678320a7c79e687": {
          "model_module": "@jupyter-widgets/controls",
          "model_module_version": "1.5.0",
          "model_name": "HBoxModel",
          "state": {
            "_dom_classes": [],
            "_model_module": "@jupyter-widgets/controls",
            "_model_module_version": "1.5.0",
            "_model_name": "HBoxModel",
            "_view_count": null,
            "_view_module": "@jupyter-widgets/controls",
            "_view_module_version": "1.5.0",
            "_view_name": "HBoxView",
            "box_style": "",
            "children": [
              "IPY_MODEL_137e83a11d934a1ca1ea22d3c00f48db",
              "IPY_MODEL_ba640f217aed44659caf4f7dcb30226c",
              "IPY_MODEL_e6d15e422afb48b1bef40884efee0781"
            ],
            "layout": "IPY_MODEL_eb0eb9def29c4c6ca88bd9234ed61ac7"
          }
        },
        "dee1a6237f6947dd8a42d90974b966bc": {
          "model_module": "@jupyter-widgets/controls",
          "model_module_version": "1.5.0",
          "model_name": "DescriptionStyleModel",
          "state": {
            "_model_module": "@jupyter-widgets/controls",
            "_model_module_version": "1.5.0",
            "_model_name": "DescriptionStyleModel",
            "_view_count": null,
            "_view_module": "@jupyter-widgets/base",
            "_view_module_version": "1.2.0",
            "_view_name": "StyleView",
            "description_width": ""
          }
        },
        "e6d15e422afb48b1bef40884efee0781": {
          "model_module": "@jupyter-widgets/controls",
          "model_module_version": "1.5.0",
          "model_name": "HTMLModel",
          "state": {
            "_dom_classes": [],
            "_model_module": "@jupyter-widgets/controls",
            "_model_module_version": "1.5.0",
            "_model_name": "HTMLModel",
            "_view_count": null,
            "_view_module": "@jupyter-widgets/controls",
            "_view_module_version": "1.5.0",
            "_view_name": "HTMLView",
            "description": "",
            "description_tooltip": null,
            "layout": "IPY_MODEL_f7f569be39294134952660ccf99e8cf9",
            "placeholder": "​",
            "style": "IPY_MODEL_dee1a6237f6947dd8a42d90974b966bc",
            "value": " 0/24 [00:00&lt;?, ?it/s]"
          }
        },
        "eb0eb9def29c4c6ca88bd9234ed61ac7": {
          "model_module": "@jupyter-widgets/base",
          "model_module_version": "1.2.0",
          "model_name": "LayoutModel",
          "state": {
            "_model_module": "@jupyter-widgets/base",
            "_model_module_version": "1.2.0",
            "_model_name": "LayoutModel",
            "_view_count": null,
            "_view_module": "@jupyter-widgets/base",
            "_view_module_version": "1.2.0",
            "_view_name": "LayoutView",
            "align_content": null,
            "align_items": null,
            "align_self": null,
            "border": null,
            "bottom": null,
            "display": null,
            "flex": null,
            "flex_flow": null,
            "grid_area": null,
            "grid_auto_columns": null,
            "grid_auto_flow": null,
            "grid_auto_rows": null,
            "grid_column": null,
            "grid_gap": null,
            "grid_row": null,
            "grid_template_areas": null,
            "grid_template_columns": null,
            "grid_template_rows": null,
            "height": null,
            "justify_content": null,
            "justify_items": null,
            "left": null,
            "margin": null,
            "max_height": null,
            "max_width": null,
            "min_height": null,
            "min_width": null,
            "object_fit": null,
            "object_position": null,
            "order": null,
            "overflow": null,
            "overflow_x": null,
            "overflow_y": null,
            "padding": null,
            "right": null,
            "top": null,
            "visibility": null,
            "width": null
          }
        },
        "f7f569be39294134952660ccf99e8cf9": {
          "model_module": "@jupyter-widgets/base",
          "model_module_version": "1.2.0",
          "model_name": "LayoutModel",
          "state": {
            "_model_module": "@jupyter-widgets/base",
            "_model_module_version": "1.2.0",
            "_model_name": "LayoutModel",
            "_view_count": null,
            "_view_module": "@jupyter-widgets/base",
            "_view_module_version": "1.2.0",
            "_view_name": "LayoutView",
            "align_content": null,
            "align_items": null,
            "align_self": null,
            "border": null,
            "bottom": null,
            "display": null,
            "flex": null,
            "flex_flow": null,
            "grid_area": null,
            "grid_auto_columns": null,
            "grid_auto_flow": null,
            "grid_auto_rows": null,
            "grid_column": null,
            "grid_gap": null,
            "grid_row": null,
            "grid_template_areas": null,
            "grid_template_columns": null,
            "grid_template_rows": null,
            "height": null,
            "justify_content": null,
            "justify_items": null,
            "left": null,
            "margin": null,
            "max_height": null,
            "max_width": null,
            "min_height": null,
            "min_width": null,
            "object_fit": null,
            "object_position": null,
            "order": null,
            "overflow": null,
            "overflow_x": null,
            "overflow_y": null,
            "padding": null,
            "right": null,
            "top": null,
            "visibility": null,
            "width": null
          }
        }
      }
    }
  },
  "nbformat": 4,
  "nbformat_minor": 0
}
